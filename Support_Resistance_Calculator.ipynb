{
  "nbformat": 4,
  "nbformat_minor": 0,
  "metadata": {
    "colab": {
      "name": "Support-Resistance-Calculator.ipynb",
      "provenance": [],
      "authorship_tag": "ABX9TyMtLKpE1dYV9PgoBwQXI3Zp",
      "include_colab_link": true
    },
    "kernelspec": {
      "name": "python3",
      "display_name": "Python 3"
    }
  },
  "cells": [
    {
      "cell_type": "markdown",
      "metadata": {
        "id": "view-in-github",
        "colab_type": "text"
      },
      "source": [
        "<a href=\"https://colab.research.google.com/github/mastermindankur/stock-analysis/blob/main/Support_Resistance_Calculator.ipynb\" target=\"_parent\"><img src=\"https://colab.research.google.com/assets/colab-badge.svg\" alt=\"Open In Colab\"/></a>"
      ]
    },
    {
      "cell_type": "code",
      "metadata": {
        "colab": {
          "base_uri": "https://localhost:8080/"
        },
        "id": "MRd8sotVhP2w",
        "outputId": "452251a6-56e9-4420-ea8c-e154d827c831"
      },
      "source": [
        "!pip install bsedata\r\n",
        "!pip install quandl"
      ],
      "execution_count": 2,
      "outputs": [
        {
          "output_type": "stream",
          "text": [
            "Collecting bsedata\n",
            "  Downloading https://files.pythonhosted.org/packages/60/74/1d16f033c5b7a7d516a58325d55bc6661a8117edafe728517bee31a9d61d/bsedata-0.4.0-py3-none-any.whl\n",
            "Requirement already satisfied: requests in /usr/local/lib/python3.6/dist-packages (from bsedata) (2.23.0)\n",
            "Requirement already satisfied: lxml in /usr/local/lib/python3.6/dist-packages (from bsedata) (4.2.6)\n",
            "Requirement already satisfied: beautifulsoup4 in /usr/local/lib/python3.6/dist-packages (from bsedata) (4.6.3)\n",
            "Requirement already satisfied: certifi>=2017.4.17 in /usr/local/lib/python3.6/dist-packages (from requests->bsedata) (2020.12.5)\n",
            "Requirement already satisfied: idna<3,>=2.5 in /usr/local/lib/python3.6/dist-packages (from requests->bsedata) (2.10)\n",
            "Requirement already satisfied: urllib3!=1.25.0,!=1.25.1,<1.26,>=1.21.1 in /usr/local/lib/python3.6/dist-packages (from requests->bsedata) (1.24.3)\n",
            "Requirement already satisfied: chardet<4,>=3.0.2 in /usr/local/lib/python3.6/dist-packages (from requests->bsedata) (3.0.4)\n",
            "Installing collected packages: bsedata\n",
            "Successfully installed bsedata-0.4.0\n",
            "Collecting quandl\n",
            "  Downloading https://files.pythonhosted.org/packages/c2/58/9f0e69d836045e3865d263e9ed49f42b23a58526fdabb30f74c430baee3f/Quandl-3.6.0-py2.py3-none-any.whl\n",
            "Requirement already satisfied: numpy>=1.8 in /usr/local/lib/python3.6/dist-packages (from quandl) (1.19.5)\n",
            "Requirement already satisfied: requests>=2.7.0 in /usr/local/lib/python3.6/dist-packages (from quandl) (2.23.0)\n",
            "Requirement already satisfied: six in /usr/local/lib/python3.6/dist-packages (from quandl) (1.15.0)\n",
            "Requirement already satisfied: more-itertools in /usr/local/lib/python3.6/dist-packages (from quandl) (8.6.0)\n",
            "Collecting inflection>=0.3.1\n",
            "  Downloading https://files.pythonhosted.org/packages/59/91/aa6bde563e0085a02a435aa99b49ef75b0a4b062635e606dab23ce18d720/inflection-0.5.1-py2.py3-none-any.whl\n",
            "Requirement already satisfied: pandas>=0.14 in /usr/local/lib/python3.6/dist-packages (from quandl) (1.1.5)\n",
            "Requirement already satisfied: python-dateutil in /usr/local/lib/python3.6/dist-packages (from quandl) (2.8.1)\n",
            "Requirement already satisfied: urllib3!=1.25.0,!=1.25.1,<1.26,>=1.21.1 in /usr/local/lib/python3.6/dist-packages (from requests>=2.7.0->quandl) (1.24.3)\n",
            "Requirement already satisfied: idna<3,>=2.5 in /usr/local/lib/python3.6/dist-packages (from requests>=2.7.0->quandl) (2.10)\n",
            "Requirement already satisfied: certifi>=2017.4.17 in /usr/local/lib/python3.6/dist-packages (from requests>=2.7.0->quandl) (2020.12.5)\n",
            "Requirement already satisfied: chardet<4,>=3.0.2 in /usr/local/lib/python3.6/dist-packages (from requests>=2.7.0->quandl) (3.0.4)\n",
            "Requirement already satisfied: pytz>=2017.2 in /usr/local/lib/python3.6/dist-packages (from pandas>=0.14->quandl) (2018.9)\n",
            "Installing collected packages: inflection, quandl\n",
            "Successfully installed inflection-0.5.1 quandl-3.6.0\n"
          ],
          "name": "stdout"
        }
      ]
    },
    {
      "cell_type": "code",
      "metadata": {
        "id": "8l_rJZJWhgeh"
      },
      "source": [
        "import matplotlib.pyplot as plt\r\n",
        "import numpy as np\r\n",
        "import pandas as pd\r\n",
        "import matplotlib.dates as dates\r\n",
        "import quandl\r\n",
        "%matplotlib inline"
      ],
      "execution_count": 3,
      "outputs": []
    },
    {
      "cell_type": "code",
      "metadata": {
        "id": "uxgA0u6Nhjnf"
      },
      "source": [
        "# to be ale to view numbers in human readable format 2.058691e+08\r\n",
        "pd.set_option('display.float_format', lambda x: '%.3f' % x)\r\n",
        "quandl.ApiConfig.api_key = 'izbxGLp_K_zzzUJdN9sp'"
      ],
      "execution_count": 4,
      "outputs": []
    },
    {
      "cell_type": "code",
      "metadata": {
        "id": "WZ1yXHaqhmlh"
      },
      "source": [
        "sbi =quandl.get('BSE/BOM534816', start_date='2021-01-15', end_date='2021-01-15')\r\n",
        "sbi['PP']= (sbi['High']+sbi['Low']+sbi['Close'])/3\r\n",
        "sbi['R1']= 2*sbi['PP'] -sbi['Low']\r\n",
        "sbi['S1']= 2*sbi['PP'] -sbi['High']\r\n",
        "sbi['R2']= sbi['PP'] + (sbi['High'] - sbi['Low']) \r\n",
        "sbi['S2']= sbi['PP'] - (sbi['High'] - sbi['Low']) \r\n",
        "sbi['R3']= sbi['High'] + 2*(sbi['PP'] - sbi['Low'])\r\n",
        "sbi['S3']= sbi['Low'] - 2*(sbi['High'] - sbi['PP'])"
      ],
      "execution_count": 7,
      "outputs": []
    },
    {
      "cell_type": "code",
      "metadata": {
        "colab": {
          "base_uri": "https://localhost:8080/",
          "height": 216
        },
        "id": "r0FL1N5xh59F",
        "outputId": "27d0622a-a7b7-419c-c92a-5de71a2a68a7"
      },
      "source": [
        "sbi"
      ],
      "execution_count": 8,
      "outputs": [
        {
          "output_type": "execute_result",
          "data": {
            "text/html": [
              "<div>\n",
              "<style scoped>\n",
              "    .dataframe tbody tr th:only-of-type {\n",
              "        vertical-align: middle;\n",
              "    }\n",
              "\n",
              "    .dataframe tbody tr th {\n",
              "        vertical-align: top;\n",
              "    }\n",
              "\n",
              "    .dataframe thead th {\n",
              "        text-align: right;\n",
              "    }\n",
              "</style>\n",
              "<table border=\"1\" class=\"dataframe\">\n",
              "  <thead>\n",
              "    <tr style=\"text-align: right;\">\n",
              "      <th></th>\n",
              "      <th>Open</th>\n",
              "      <th>High</th>\n",
              "      <th>Low</th>\n",
              "      <th>Close</th>\n",
              "      <th>WAP</th>\n",
              "      <th>No. of Shares</th>\n",
              "      <th>No. of Trades</th>\n",
              "      <th>Total Turnover</th>\n",
              "      <th>Deliverable Quantity</th>\n",
              "      <th>% Deli. Qty to Traded Qty</th>\n",
              "      <th>Spread H-L</th>\n",
              "      <th>Spread C-O</th>\n",
              "      <th>PP</th>\n",
              "      <th>R1</th>\n",
              "      <th>S1</th>\n",
              "      <th>R2</th>\n",
              "      <th>S2</th>\n",
              "      <th>R3</th>\n",
              "      <th>S3</th>\n",
              "    </tr>\n",
              "    <tr>\n",
              "      <th>Date</th>\n",
              "      <th></th>\n",
              "      <th></th>\n",
              "      <th></th>\n",
              "      <th></th>\n",
              "      <th></th>\n",
              "      <th></th>\n",
              "      <th></th>\n",
              "      <th></th>\n",
              "      <th></th>\n",
              "      <th></th>\n",
              "      <th></th>\n",
              "      <th></th>\n",
              "      <th></th>\n",
              "      <th></th>\n",
              "      <th></th>\n",
              "      <th></th>\n",
              "      <th></th>\n",
              "      <th></th>\n",
              "      <th></th>\n",
              "    </tr>\n",
              "  </thead>\n",
              "  <tbody>\n",
              "    <tr>\n",
              "      <th>2021-01-15</th>\n",
              "      <td>258.500</td>\n",
              "      <td>266.900</td>\n",
              "      <td>257.350</td>\n",
              "      <td>262.350</td>\n",
              "      <td>262.390</td>\n",
              "      <td>174417.000</td>\n",
              "      <td>2738.000</td>\n",
              "      <td>45765320.000</td>\n",
              "      <td>32849.000</td>\n",
              "      <td>18.830</td>\n",
              "      <td>9.550</td>\n",
              "      <td>3.850</td>\n",
              "      <td>262.200</td>\n",
              "      <td>267.050</td>\n",
              "      <td>257.500</td>\n",
              "      <td>271.750</td>\n",
              "      <td>252.650</td>\n",
              "      <td>276.600</td>\n",
              "      <td>247.950</td>\n",
              "    </tr>\n",
              "  </tbody>\n",
              "</table>\n",
              "</div>"
            ],
            "text/plain": [
              "              Open    High     Low   Close  ...      R2      S2      R3      S3\n",
              "Date                                        ...                                \n",
              "2021-01-15 258.500 266.900 257.350 262.350  ... 271.750 252.650 276.600 247.950\n",
              "\n",
              "[1 rows x 19 columns]"
            ]
          },
          "metadata": {
            "tags": []
          },
          "execution_count": 8
        }
      ]
    }
  ]
}