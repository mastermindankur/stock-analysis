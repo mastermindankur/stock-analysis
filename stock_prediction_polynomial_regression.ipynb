{
  "nbformat": 4,
  "nbformat_minor": 0,
  "metadata": {
    "colab": {
      "name": "stock-prediction-polynomial-regression.ipynb",
      "provenance": [],
      "authorship_tag": "ABX9TyPfoHdPWv3rB0I95koE7voe",
      "include_colab_link": true
    },
    "kernelspec": {
      "name": "python3",
      "display_name": "Python 3"
    },
    "language_info": {
      "name": "python"
    }
  },
  "cells": [
    {
      "cell_type": "markdown",
      "metadata": {
        "id": "view-in-github",
        "colab_type": "text"
      },
      "source": [
        "<a href=\"https://colab.research.google.com/github/mastermindankur/stock-analysis/blob/main/stock_prediction_polynomial_regression.ipynb\" target=\"_parent\"><img src=\"https://colab.research.google.com/assets/colab-badge.svg\" alt=\"Open In Colab\"/></a>"
      ]
    },
    {
      "cell_type": "code",
      "execution_count": 125,
      "metadata": {
        "colab": {
          "base_uri": "https://localhost:8080/"
        },
        "id": "eaoXIAtfqNJA",
        "outputId": "d0a30b65-35b3-4731-bd9f-d7a83adc2f1c"
      },
      "outputs": [
        {
          "output_type": "stream",
          "name": "stdout",
          "text": [
            "Requirement already satisfied: bsedata in /usr/local/lib/python3.7/dist-packages (0.5.0)\n",
            "Requirement already satisfied: beautifulsoup4 in /usr/local/lib/python3.7/dist-packages (from bsedata) (4.6.3)\n",
            "Requirement already satisfied: lxml in /usr/local/lib/python3.7/dist-packages (from bsedata) (4.2.6)\n",
            "Requirement already satisfied: requests in /usr/local/lib/python3.7/dist-packages (from bsedata) (2.23.0)\n",
            "Requirement already satisfied: idna<3,>=2.5 in /usr/local/lib/python3.7/dist-packages (from requests->bsedata) (2.10)\n",
            "Requirement already satisfied: certifi>=2017.4.17 in /usr/local/lib/python3.7/dist-packages (from requests->bsedata) (2021.10.8)\n",
            "Requirement already satisfied: chardet<4,>=3.0.2 in /usr/local/lib/python3.7/dist-packages (from requests->bsedata) (3.0.4)\n",
            "Requirement already satisfied: urllib3!=1.25.0,!=1.25.1,<1.26,>=1.21.1 in /usr/local/lib/python3.7/dist-packages (from requests->bsedata) (1.24.3)\n",
            "Requirement already satisfied: quandl in /usr/local/lib/python3.7/dist-packages (3.7.0)\n",
            "Requirement already satisfied: six in /usr/local/lib/python3.7/dist-packages (from quandl) (1.15.0)\n",
            "Requirement already satisfied: python-dateutil in /usr/local/lib/python3.7/dist-packages (from quandl) (2.8.2)\n",
            "Requirement already satisfied: numpy>=1.8 in /usr/local/lib/python3.7/dist-packages (from quandl) (1.19.5)\n",
            "Requirement already satisfied: pandas>=0.14 in /usr/local/lib/python3.7/dist-packages (from quandl) (1.1.5)\n",
            "Requirement already satisfied: requests>=2.7.0 in /usr/local/lib/python3.7/dist-packages (from quandl) (2.23.0)\n",
            "Requirement already satisfied: more-itertools in /usr/local/lib/python3.7/dist-packages (from quandl) (8.12.0)\n",
            "Requirement already satisfied: inflection>=0.3.1 in /usr/local/lib/python3.7/dist-packages (from quandl) (0.5.1)\n",
            "Requirement already satisfied: pytz>=2017.2 in /usr/local/lib/python3.7/dist-packages (from pandas>=0.14->quandl) (2018.9)\n",
            "Requirement already satisfied: urllib3!=1.25.0,!=1.25.1,<1.26,>=1.21.1 in /usr/local/lib/python3.7/dist-packages (from requests>=2.7.0->quandl) (1.24.3)\n",
            "Requirement already satisfied: certifi>=2017.4.17 in /usr/local/lib/python3.7/dist-packages (from requests>=2.7.0->quandl) (2021.10.8)\n",
            "Requirement already satisfied: chardet<4,>=3.0.2 in /usr/local/lib/python3.7/dist-packages (from requests>=2.7.0->quandl) (3.0.4)\n",
            "Requirement already satisfied: idna<3,>=2.5 in /usr/local/lib/python3.7/dist-packages (from requests>=2.7.0->quandl) (2.10)\n"
          ]
        }
      ],
      "source": [
        "!pip install bsedata\n",
        "!pip install quandl"
      ]
    },
    {
      "cell_type": "code",
      "source": [
        "import matplotlib.pyplot as plt\n",
        "import numpy as np\n",
        "import pandas as pd\n",
        "import matplotlib.dates as dates\n",
        "import quandl\n",
        "%matplotlib inline"
      ],
      "metadata": {
        "id": "x2I2H0acqYF9"
      },
      "execution_count": 126,
      "outputs": []
    },
    {
      "cell_type": "code",
      "source": [
        "# to be ale to view numbers in human readable format 2.058691e+08\n",
        "pd.set_option('display.float_format', lambda x: '%.3f' % x)\n",
        "quandl.ApiConfig.api_key = 'izbxGLp_K_zzzUJdN9sp'\n",
        "sbi =quandl.get('BSE/BOM500112', start_date='2021-09-01', end_date='2021-12-26')\n",
        "sensex =quandl.get('BSE/SENSEX', start_date='2021-09-01', end_date='2021-12-26')"
      ],
      "metadata": {
        "id": "zdGsLtVDqa9g"
      },
      "execution_count": 127,
      "outputs": []
    },
    {
      "cell_type": "code",
      "source": [
        "forwarded=sbi.shift(1)\n",
        "forwarded=forwarded.rename(columns={'% Deli. Qty to Traded Qty':'previous_day_delivered_qty'})\n",
        "#forwarded=forwarded.rename(columns={'No. of Shares':'previous_day_no_of_shares'})\n",
        "#forwarded=forwarded.rename(columns={'No. of Trades':'previous_day_no_of_trades'})\n",
        "forwarded=forwarded.rename(columns={'Total Turnover':'previous_day_total_turnover'})"
      ],
      "metadata": {
        "id": "Wf4WXbBdqgRy"
      },
      "execution_count": 128,
      "outputs": []
    },
    {
      "cell_type": "code",
      "source": [
        "# Renaming the columns to avoid duplicate names\n",
        "sbi=sbi.rename(columns={'Open':'sbi_open'})\n",
        "sbi=sbi.rename(columns={'High':'sbi_high'})\n",
        "sensex=sensex.rename(columns={'Open':'sensex_open'})\n",
        "df=pd.concat([sbi,sensex,forwarded],axis=1)"
      ],
      "metadata": {
        "id": "P9MFgun-qkiY"
      },
      "execution_count": 129,
      "outputs": []
    },
    {
      "cell_type": "code",
      "source": [
        "data=df[['sbi_open','sensex_open','previous_day_delivered_qty','previous_day_total_turnover','sbi_high']]"
      ],
      "metadata": {
        "id": "ywTertCQqsug"
      },
      "execution_count": 130,
      "outputs": []
    },
    {
      "cell_type": "code",
      "source": [
        "data"
      ],
      "metadata": {
        "colab": {
          "base_uri": "https://localhost:8080/",
          "height": 455
        },
        "id": "dVZJP_I8EJaJ",
        "outputId": "53225fa1-9133-47f4-d7ae-680771390279"
      },
      "execution_count": 131,
      "outputs": [
        {
          "output_type": "execute_result",
          "data": {
            "text/html": [
              "\n",
              "  <div id=\"df-a913055e-99ef-4099-a177-c481c91d85ef\">\n",
              "    <div class=\"colab-df-container\">\n",
              "      <div>\n",
              "<style scoped>\n",
              "    .dataframe tbody tr th:only-of-type {\n",
              "        vertical-align: middle;\n",
              "    }\n",
              "\n",
              "    .dataframe tbody tr th {\n",
              "        vertical-align: top;\n",
              "    }\n",
              "\n",
              "    .dataframe thead th {\n",
              "        text-align: right;\n",
              "    }\n",
              "</style>\n",
              "<table border=\"1\" class=\"dataframe\">\n",
              "  <thead>\n",
              "    <tr style=\"text-align: right;\">\n",
              "      <th></th>\n",
              "      <th>sbi_open</th>\n",
              "      <th>sensex_open</th>\n",
              "      <th>previous_day_delivered_qty</th>\n",
              "      <th>previous_day_total_turnover</th>\n",
              "      <th>sbi_high</th>\n",
              "    </tr>\n",
              "    <tr>\n",
              "      <th>Date</th>\n",
              "      <th></th>\n",
              "      <th></th>\n",
              "      <th></th>\n",
              "      <th></th>\n",
              "      <th></th>\n",
              "    </tr>\n",
              "  </thead>\n",
              "  <tbody>\n",
              "    <tr>\n",
              "      <th>2021-09-01</th>\n",
              "      <td>426.950</td>\n",
              "      <td>57763.530</td>\n",
              "      <td>nan</td>\n",
              "      <td>nan</td>\n",
              "      <td>432.500</td>\n",
              "    </tr>\n",
              "    <tr>\n",
              "      <th>2021-09-02</th>\n",
              "      <td>431.700</td>\n",
              "      <td>57423.650</td>\n",
              "      <td>24.140</td>\n",
              "      <td>334926856.000</td>\n",
              "      <td>433.400</td>\n",
              "    </tr>\n",
              "    <tr>\n",
              "      <th>2021-09-03</th>\n",
              "      <td>431.400</td>\n",
              "      <td>57983.450</td>\n",
              "      <td>22.930</td>\n",
              "      <td>231918996.000</td>\n",
              "      <td>434.200</td>\n",
              "    </tr>\n",
              "    <tr>\n",
              "      <th>2021-09-06</th>\n",
              "      <td>431.500</td>\n",
              "      <td>58411.620</td>\n",
              "      <td>26.170</td>\n",
              "      <td>245989882.000</td>\n",
              "      <td>433.750</td>\n",
              "    </tr>\n",
              "    <tr>\n",
              "      <th>2021-09-07</th>\n",
              "      <td>432.000</td>\n",
              "      <td>58418.690</td>\n",
              "      <td>25.200</td>\n",
              "      <td>163799347.000</td>\n",
              "      <td>432.000</td>\n",
              "    </tr>\n",
              "    <tr>\n",
              "      <th>...</th>\n",
              "      <td>...</td>\n",
              "      <td>...</td>\n",
              "      <td>...</td>\n",
              "      <td>...</td>\n",
              "      <td>...</td>\n",
              "    </tr>\n",
              "    <tr>\n",
              "      <th>2021-12-20</th>\n",
              "      <td>459.900</td>\n",
              "      <td>56517.260</td>\n",
              "      <td>34.870</td>\n",
              "      <td>396301843.000</td>\n",
              "      <td>463.950</td>\n",
              "    </tr>\n",
              "    <tr>\n",
              "      <th>2021-12-21</th>\n",
              "      <td>454.550</td>\n",
              "      <td>56320.020</td>\n",
              "      <td>33.480</td>\n",
              "      <td>388774565.000</td>\n",
              "      <td>458.300</td>\n",
              "    </tr>\n",
              "    <tr>\n",
              "      <th>2021-12-22</th>\n",
              "      <td>451.700</td>\n",
              "      <td>56599.470</td>\n",
              "      <td>37.160</td>\n",
              "      <td>468699163.000</td>\n",
              "      <td>457.350</td>\n",
              "    </tr>\n",
              "    <tr>\n",
              "      <th>2021-12-23</th>\n",
              "      <td>461.700</td>\n",
              "      <td>57251.150</td>\n",
              "      <td>17.670</td>\n",
              "      <td>186505067.000</td>\n",
              "      <td>465.000</td>\n",
              "    </tr>\n",
              "    <tr>\n",
              "      <th>2021-12-24</th>\n",
              "      <td>463.450</td>\n",
              "      <td>57567.110</td>\n",
              "      <td>30.070</td>\n",
              "      <td>261377833.000</td>\n",
              "      <td>463.450</td>\n",
              "    </tr>\n",
              "  </tbody>\n",
              "</table>\n",
              "<p>79 rows × 5 columns</p>\n",
              "</div>\n",
              "      <button class=\"colab-df-convert\" onclick=\"convertToInteractive('df-a913055e-99ef-4099-a177-c481c91d85ef')\"\n",
              "              title=\"Convert this dataframe to an interactive table.\"\n",
              "              style=\"display:none;\">\n",
              "        \n",
              "  <svg xmlns=\"http://www.w3.org/2000/svg\" height=\"24px\"viewBox=\"0 0 24 24\"\n",
              "       width=\"24px\">\n",
              "    <path d=\"M0 0h24v24H0V0z\" fill=\"none\"/>\n",
              "    <path d=\"M18.56 5.44l.94 2.06.94-2.06 2.06-.94-2.06-.94-.94-2.06-.94 2.06-2.06.94zm-11 1L8.5 8.5l.94-2.06 2.06-.94-2.06-.94L8.5 2.5l-.94 2.06-2.06.94zm10 10l.94 2.06.94-2.06 2.06-.94-2.06-.94-.94-2.06-.94 2.06-2.06.94z\"/><path d=\"M17.41 7.96l-1.37-1.37c-.4-.4-.92-.59-1.43-.59-.52 0-1.04.2-1.43.59L10.3 9.45l-7.72 7.72c-.78.78-.78 2.05 0 2.83L4 21.41c.39.39.9.59 1.41.59.51 0 1.02-.2 1.41-.59l7.78-7.78 2.81-2.81c.8-.78.8-2.07 0-2.86zM5.41 20L4 18.59l7.72-7.72 1.47 1.35L5.41 20z\"/>\n",
              "  </svg>\n",
              "      </button>\n",
              "      \n",
              "  <style>\n",
              "    .colab-df-container {\n",
              "      display:flex;\n",
              "      flex-wrap:wrap;\n",
              "      gap: 12px;\n",
              "    }\n",
              "\n",
              "    .colab-df-convert {\n",
              "      background-color: #E8F0FE;\n",
              "      border: none;\n",
              "      border-radius: 50%;\n",
              "      cursor: pointer;\n",
              "      display: none;\n",
              "      fill: #1967D2;\n",
              "      height: 32px;\n",
              "      padding: 0 0 0 0;\n",
              "      width: 32px;\n",
              "    }\n",
              "\n",
              "    .colab-df-convert:hover {\n",
              "      background-color: #E2EBFA;\n",
              "      box-shadow: 0px 1px 2px rgba(60, 64, 67, 0.3), 0px 1px 3px 1px rgba(60, 64, 67, 0.15);\n",
              "      fill: #174EA6;\n",
              "    }\n",
              "\n",
              "    [theme=dark] .colab-df-convert {\n",
              "      background-color: #3B4455;\n",
              "      fill: #D2E3FC;\n",
              "    }\n",
              "\n",
              "    [theme=dark] .colab-df-convert:hover {\n",
              "      background-color: #434B5C;\n",
              "      box-shadow: 0px 1px 3px 1px rgba(0, 0, 0, 0.15);\n",
              "      filter: drop-shadow(0px 1px 2px rgba(0, 0, 0, 0.3));\n",
              "      fill: #FFFFFF;\n",
              "    }\n",
              "  </style>\n",
              "\n",
              "      <script>\n",
              "        const buttonEl =\n",
              "          document.querySelector('#df-a913055e-99ef-4099-a177-c481c91d85ef button.colab-df-convert');\n",
              "        buttonEl.style.display =\n",
              "          google.colab.kernel.accessAllowed ? 'block' : 'none';\n",
              "\n",
              "        async function convertToInteractive(key) {\n",
              "          const element = document.querySelector('#df-a913055e-99ef-4099-a177-c481c91d85ef');\n",
              "          const dataTable =\n",
              "            await google.colab.kernel.invokeFunction('convertToInteractive',\n",
              "                                                     [key], {});\n",
              "          if (!dataTable) return;\n",
              "\n",
              "          const docLinkHtml = 'Like what you see? Visit the ' +\n",
              "            '<a target=\"_blank\" href=https://colab.research.google.com/notebooks/data_table.ipynb>data table notebook</a>'\n",
              "            + ' to learn more about interactive tables.';\n",
              "          element.innerHTML = '';\n",
              "          dataTable['output_type'] = 'display_data';\n",
              "          await google.colab.output.renderOutput(dataTable, element);\n",
              "          const docLink = document.createElement('div');\n",
              "          docLink.innerHTML = docLinkHtml;\n",
              "          element.appendChild(docLink);\n",
              "        }\n",
              "      </script>\n",
              "    </div>\n",
              "  </div>\n",
              "  "
            ],
            "text/plain": [
              "            sbi_open  sensex_open  ...  previous_day_total_turnover  sbi_high\n",
              "Date                               ...                                       \n",
              "2021-09-01   426.950    57763.530  ...                          nan   432.500\n",
              "2021-09-02   431.700    57423.650  ...                334926856.000   433.400\n",
              "2021-09-03   431.400    57983.450  ...                231918996.000   434.200\n",
              "2021-09-06   431.500    58411.620  ...                245989882.000   433.750\n",
              "2021-09-07   432.000    58418.690  ...                163799347.000   432.000\n",
              "...              ...          ...  ...                          ...       ...\n",
              "2021-12-20   459.900    56517.260  ...                396301843.000   463.950\n",
              "2021-12-21   454.550    56320.020  ...                388774565.000   458.300\n",
              "2021-12-22   451.700    56599.470  ...                468699163.000   457.350\n",
              "2021-12-23   461.700    57251.150  ...                186505067.000   465.000\n",
              "2021-12-24   463.450    57567.110  ...                261377833.000   463.450\n",
              "\n",
              "[79 rows x 5 columns]"
            ]
          },
          "metadata": {},
          "execution_count": 131
        }
      ]
    },
    {
      "cell_type": "code",
      "source": [
        "X = data.iloc[1:, :-1].values\n",
        "y = data.iloc[1:, -1].values"
      ],
      "metadata": {
        "id": "qx_SJpJVq0_g"
      },
      "execution_count": 132,
      "outputs": []
    },
    {
      "cell_type": "markdown",
      "source": [
        "Increasing the no of features by using Polynomial Features\n",
        "\n",
        "Generating  $x_1^1$ $x_1^2$ $x_1^3$ $x_1^4$\n",
        "\n",
        "Generating  $x_2^1$ $x_2^2$ $x_2^3$ $x_2^4$\n",
        "\n",
        "Generating  $x_3^1$ $x_3^2$ $x_3^3$ $x_3^4$\n",
        "\n",
        "Generating  $x_4^1$ $x_4^2$ $x_4^3$ $x_4^4$\n",
        "\n",
        "and so on ....\n"
      ],
      "metadata": {
        "id": "spBtgb-IEN_B"
      }
    },
    {
      "cell_type": "code",
      "source": [
        "from sklearn.preprocessing import PolynomialFeatures\n",
        "poly_reg=PolynomialFeatures(degree=2)\n",
        "X_poly=poly_reg.fit_transform(X)"
      ],
      "metadata": {
        "id": "b1kqtCGoq6W_"
      },
      "execution_count": 133,
      "outputs": []
    },
    {
      "cell_type": "markdown",
      "source": [
        "Splitting the data in training set and test set, Note here the split is on transformed input columns i.e. X_poly"
      ],
      "metadata": {
        "id": "bY5ZAVNoF2tg"
      }
    },
    {
      "cell_type": "code",
      "source": [
        "from sklearn.model_selection import train_test_split\n",
        "X_train, X_test, y_train, y_test = train_test_split(X_poly, y, test_size = 0.2, random_state = 0)"
      ],
      "metadata": {
        "id": "TLrBxRGDq6wz"
      },
      "execution_count": 134,
      "outputs": []
    },
    {
      "cell_type": "code",
      "source": [
        "from sklearn.linear_model import LinearRegression\n",
        "regressor = LinearRegression()\n",
        "regressor.fit(X_train, y_train)"
      ],
      "metadata": {
        "colab": {
          "base_uri": "https://localhost:8080/"
        },
        "id": "5_zTCP0wsPlP",
        "outputId": "989ac65e-3961-4f5f-ae74-8e74a419b3da"
      },
      "execution_count": 135,
      "outputs": [
        {
          "output_type": "execute_result",
          "data": {
            "text/plain": [
              "LinearRegression()"
            ]
          },
          "metadata": {},
          "execution_count": 135
        }
      ]
    },
    {
      "cell_type": "code",
      "source": [
        "y_pred=regressor.predict(X_test)"
      ],
      "metadata": {
        "id": "jCFGuXfcsaO9"
      },
      "execution_count": 136,
      "outputs": []
    },
    {
      "cell_type": "code",
      "source": [
        "plt.plot(y_test,color='blue')\n",
        "plt.plot(y_pred,color='red')"
      ],
      "metadata": {
        "colab": {
          "base_uri": "https://localhost:8080/",
          "height": 282
        },
        "id": "GOO2QKGhwz5j",
        "outputId": "6bf70529-cd58-48c1-fdb7-31d16ade2691"
      },
      "execution_count": 137,
      "outputs": [
        {
          "output_type": "execute_result",
          "data": {
            "text/plain": [
              "[<matplotlib.lines.Line2D at 0x7ff61f333b10>]"
            ]
          },
          "metadata": {},
          "execution_count": 137
        },
        {
          "output_type": "display_data",
          "data": {
            "image/png": "[encoded data removed]",
            "text/plain": [
              "<Figure size 432x288 with 1 Axes>"
            ]
          },
          "metadata": {
            "needs_background": "light"
          }
        }
      ]
    },
    {
      "cell_type": "code",
      "source": [
        "from sklearn.metrics import mean_squared_error\n",
        "mean_squared_error(y_pred, y_test,squared=False)"
      ],
      "metadata": {
        "colab": {
          "base_uri": "https://localhost:8080/"
        },
        "id": "lgslBO-qxcCI",
        "outputId": "32213aba-1d0d-44fb-9431-79cf1c42d67e"
      },
      "execution_count": 138,
      "outputs": [
        {
          "output_type": "execute_result",
          "data": {
            "text/plain": [
              "2.780770913295378"
            ]
          },
          "metadata": {},
          "execution_count": 138
        }
      ]
    }
  ]
}