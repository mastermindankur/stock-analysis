{
  "nbformat": 4,
  "nbformat_minor": 0,
  "metadata": {
    "colab": {
      "name": "sbi-stock-price-prediction-support-vector-regression.ipynb",
      "provenance": [],
      "authorship_tag": "ABX9TyMKQLhilWywnGsDATSywsJR",
      "include_colab_link": true
    },
    "kernelspec": {
      "name": "python3",
      "display_name": "Python 3"
    },
    "language_info": {
      "name": "python"
    }
  },
  "cells": [
    {
      "cell_type": "markdown",
      "metadata": {
        "id": "view-in-github",
        "colab_type": "text"
      },
      "source": [
        "<a href=\"https://colab.research.google.com/github/mastermindankur/stock-analysis/blob/main/sbi_stock_price_prediction_support_vector_regression.ipynb\" target=\"_parent\"><img src=\"https://colab.research.google.com/assets/colab-badge.svg\" alt=\"Open In Colab\"/></a>"
      ]
    },
    {
      "cell_type": "code",
      "execution_count": null,
      "metadata": {
        "id": "kjxmxArB-NLH"
      },
      "outputs": [],
      "source": [
        "!pip install bsedata\n",
        "!pip install quandl"
      ]
    },
    {
      "cell_type": "code",
      "source": [
        "import matplotlib.pyplot as plt\n",
        "import numpy as np\n",
        "import pandas as pd\n",
        "import matplotlib.dates as dates\n",
        "import quandl\n",
        "%matplotlib inline"
      ],
      "metadata": {
        "id": "OHwl4Q9A_Peb"
      },
      "execution_count": 9,
      "outputs": []
    },
    {
      "cell_type": "code",
      "source": [
        "# to be ale to view numbers in human readable format 2.058691e+08\n",
        "pd.set_option('display.float_format', lambda x: '%.3f' % x)\n",
        "quandl.ApiConfig.api_key = 'izbxGLp_K_zzzUJdN9sp'\n",
        "sbi =quandl.get('BSE/BOM500112', start_date='2021-06-01', end_date='2021-12-31')\n",
        "sensex =quandl.get('BSE/SENSEX', start_date='2021-06-01', end_date='2021-12-31')\n",
        "forwarded=sbi.shift(1)\n",
        "forwarded=forwarded.rename(columns={'% Deli. Qty to Traded Qty':'previous_day_delivered_qty'})\n",
        "#forwarded=forwarded.rename(columns={'No. of Shares':'previous_day_no_of_shares'})\n",
        "#forwarded=forwarded.rename(columns={'No. of Trades':'previous_day_no_of_trades'})\n",
        "forwarded=forwarded.rename(columns={'Total Turnover':'previous_day_total_turnover'})\n",
        "# Renaming the columns to avoid duplicate names\n",
        "sbi=sbi.rename(columns={'Open':'sbi_open'})\n",
        "sbi=sbi.rename(columns={'High':'sbi_high'})\n",
        "sensex=sensex.rename(columns={'Open':'sensex_open'})\n",
        "df=pd.concat([sbi,sensex,forwarded],axis=1)\n",
        "data=df[['sbi_open','sensex_open','previous_day_delivered_qty','previous_day_total_turnover','sbi_high']]\n",
        "data"
      ],
      "metadata": {
        "colab": {
          "base_uri": "https://localhost:8080/",
          "height": 455
        },
        "id": "12jVL7oz_Xe2",
        "outputId": "4c7f9661-c9b1-4cd0-9121-0b3c4a2aed60"
      },
      "execution_count": 10,
      "outputs": [
        {
          "output_type": "execute_result",
          "data": {
            "text/html": [
              "\n",
              "  <div id=\"df-f08a8e49-c17e-4ea9-991f-c9ee76ffa2d6\">\n",
              "    <div class=\"colab-df-container\">\n",
              "      <div>\n",
              "<style scoped>\n",
              "    .dataframe tbody tr th:only-of-type {\n",
              "        vertical-align: middle;\n",
              "    }\n",
              "\n",
              "    .dataframe tbody tr th {\n",
              "        vertical-align: top;\n",
              "    }\n",
              "\n",
              "    .dataframe thead th {\n",
              "        text-align: right;\n",
              "    }\n",
              "</style>\n",
              "<table border=\"1\" class=\"dataframe\">\n",
              "  <thead>\n",
              "    <tr style=\"text-align: right;\">\n",
              "      <th></th>\n",
              "      <th>sbi_open</th>\n",
              "      <th>sensex_open</th>\n",
              "      <th>previous_day_delivered_qty</th>\n",
              "      <th>previous_day_total_turnover</th>\n",
              "      <th>sbi_high</th>\n",
              "    </tr>\n",
              "    <tr>\n",
              "      <th>Date</th>\n",
              "      <th></th>\n",
              "      <th></th>\n",
              "      <th></th>\n",
              "      <th></th>\n",
              "      <th></th>\n",
              "    </tr>\n",
              "  </thead>\n",
              "  <tbody>\n",
              "    <tr>\n",
              "      <th>2021-06-01</th>\n",
              "      <td>426.400</td>\n",
              "      <td>52067.510</td>\n",
              "      <td>nan</td>\n",
              "      <td>nan</td>\n",
              "      <td>435.200</td>\n",
              "    </tr>\n",
              "    <tr>\n",
              "      <th>2021-06-02</th>\n",
              "      <td>431.850</td>\n",
              "      <td>51749.100</td>\n",
              "      <td>19.740</td>\n",
              "      <td>1433240052.000</td>\n",
              "      <td>437.900</td>\n",
              "    </tr>\n",
              "    <tr>\n",
              "      <th>2021-06-03</th>\n",
              "      <td>437.400</td>\n",
              "      <td>52121.580</td>\n",
              "      <td>40.510</td>\n",
              "      <td>1121732631.000</td>\n",
              "      <td>442.000</td>\n",
              "    </tr>\n",
              "    <tr>\n",
              "      <th>2021-06-04</th>\n",
              "      <td>437.500</td>\n",
              "      <td>52367.520</td>\n",
              "      <td>22.320</td>\n",
              "      <td>777467898.000</td>\n",
              "      <td>441.850</td>\n",
              "    </tr>\n",
              "    <tr>\n",
              "      <th>2021-06-07</th>\n",
              "      <td>435.450</td>\n",
              "      <td>52231.380</td>\n",
              "      <td>19.770</td>\n",
              "      <td>706218748.000</td>\n",
              "      <td>437.350</td>\n",
              "    </tr>\n",
              "    <tr>\n",
              "      <th>...</th>\n",
              "      <td>...</td>\n",
              "      <td>...</td>\n",
              "      <td>...</td>\n",
              "      <td>...</td>\n",
              "      <td>...</td>\n",
              "    </tr>\n",
              "    <tr>\n",
              "      <th>2021-12-27</th>\n",
              "      <td>454.000</td>\n",
              "      <td>56948.330</td>\n",
              "      <td>27.240</td>\n",
              "      <td>330920177.000</td>\n",
              "      <td>460.500</td>\n",
              "    </tr>\n",
              "    <tr>\n",
              "      <th>2021-12-28</th>\n",
              "      <td>460.900</td>\n",
              "      <td>57751.210</td>\n",
              "      <td>14.820</td>\n",
              "      <td>196822443.000</td>\n",
              "      <td>462.700</td>\n",
              "    </tr>\n",
              "    <tr>\n",
              "      <th>2021-12-29</th>\n",
              "      <td>461.400</td>\n",
              "      <td>57892.310</td>\n",
              "      <td>37.760</td>\n",
              "      <td>165347679.000</td>\n",
              "      <td>462.100</td>\n",
              "    </tr>\n",
              "    <tr>\n",
              "      <th>2021-12-30</th>\n",
              "      <td>453.300</td>\n",
              "      <td>57755.400</td>\n",
              "      <td>41.840</td>\n",
              "      <td>156429735.000</td>\n",
              "      <td>454.850</td>\n",
              "    </tr>\n",
              "    <tr>\n",
              "      <th>2021-12-31</th>\n",
              "      <td>454.900</td>\n",
              "      <td>57849.760</td>\n",
              "      <td>27.160</td>\n",
              "      <td>257807741.000</td>\n",
              "      <td>461.400</td>\n",
              "    </tr>\n",
              "  </tbody>\n",
              "</table>\n",
              "<p>148 rows × 5 columns</p>\n",
              "</div>\n",
              "      <button class=\"colab-df-convert\" onclick=\"convertToInteractive('df-f08a8e49-c17e-4ea9-991f-c9ee76ffa2d6')\"\n",
              "              title=\"Convert this dataframe to an interactive table.\"\n",
              "              style=\"display:none;\">\n",
              "        \n",
              "  <svg xmlns=\"http://www.w3.org/2000/svg\" height=\"24px\"viewBox=\"0 0 24 24\"\n",
              "       width=\"24px\">\n",
              "    <path d=\"M0 0h24v24H0V0z\" fill=\"none\"/>\n",
              "    <path d=\"M18.56 5.44l.94 2.06.94-2.06 2.06-.94-2.06-.94-.94-2.06-.94 2.06-2.06.94zm-11 1L8.5 8.5l.94-2.06 2.06-.94-2.06-.94L8.5 2.5l-.94 2.06-2.06.94zm10 10l.94 2.06.94-2.06 2.06-.94-2.06-.94-.94-2.06-.94 2.06-2.06.94z\"/><path d=\"M17.41 7.96l-1.37-1.37c-.4-.4-.92-.59-1.43-.59-.52 0-1.04.2-1.43.59L10.3 9.45l-7.72 7.72c-.78.78-.78 2.05 0 2.83L4 21.41c.39.39.9.59 1.41.59.51 0 1.02-.2 1.41-.59l7.78-7.78 2.81-2.81c.8-.78.8-2.07 0-2.86zM5.41 20L4 18.59l7.72-7.72 1.47 1.35L5.41 20z\"/>\n",
              "  </svg>\n",
              "      </button>\n",
              "      \n",
              "  <style>\n",
              "    .colab-df-container {\n",
              "      display:flex;\n",
              "      flex-wrap:wrap;\n",
              "      gap: 12px;\n",
              "    }\n",
              "\n",
              "    .colab-df-convert {\n",
              "      background-color: #E8F0FE;\n",
              "      border: none;\n",
              "      border-radius: 50%;\n",
              "      cursor: pointer;\n",
              "      display: none;\n",
              "      fill: #1967D2;\n",
              "      height: 32px;\n",
              "      padding: 0 0 0 0;\n",
              "      width: 32px;\n",
              "    }\n",
              "\n",
              "    .colab-df-convert:hover {\n",
              "      background-color: #E2EBFA;\n",
              "      box-shadow: 0px 1px 2px rgba(60, 64, 67, 0.3), 0px 1px 3px 1px rgba(60, 64, 67, 0.15);\n",
              "      fill: #174EA6;\n",
              "    }\n",
              "\n",
              "    [theme=dark] .colab-df-convert {\n",
              "      background-color: #3B4455;\n",
              "      fill: #D2E3FC;\n",
              "    }\n",
              "\n",
              "    [theme=dark] .colab-df-convert:hover {\n",
              "      background-color: #434B5C;\n",
              "      box-shadow: 0px 1px 3px 1px rgba(0, 0, 0, 0.15);\n",
              "      filter: drop-shadow(0px 1px 2px rgba(0, 0, 0, 0.3));\n",
              "      fill: #FFFFFF;\n",
              "    }\n",
              "  </style>\n",
              "\n",
              "      <script>\n",
              "        const buttonEl =\n",
              "          document.querySelector('#df-f08a8e49-c17e-4ea9-991f-c9ee76ffa2d6 button.colab-df-convert');\n",
              "        buttonEl.style.display =\n",
              "          google.colab.kernel.accessAllowed ? 'block' : 'none';\n",
              "\n",
              "        async function convertToInteractive(key) {\n",
              "          const element = document.querySelector('#df-f08a8e49-c17e-4ea9-991f-c9ee76ffa2d6');\n",
              "          const dataTable =\n",
              "            await google.colab.kernel.invokeFunction('convertToInteractive',\n",
              "                                                     [key], {});\n",
              "          if (!dataTable) return;\n",
              "\n",
              "          const docLinkHtml = 'Like what you see? Visit the ' +\n",
              "            '<a target=\"_blank\" href=https://colab.research.google.com/notebooks/data_table.ipynb>data table notebook</a>'\n",
              "            + ' to learn more about interactive tables.';\n",
              "          element.innerHTML = '';\n",
              "          dataTable['output_type'] = 'display_data';\n",
              "          await google.colab.output.renderOutput(dataTable, element);\n",
              "          const docLink = document.createElement('div');\n",
              "          docLink.innerHTML = docLinkHtml;\n",
              "          element.appendChild(docLink);\n",
              "        }\n",
              "      </script>\n",
              "    </div>\n",
              "  </div>\n",
              "  "
            ],
            "text/plain": [
              "            sbi_open  sensex_open  ...  previous_day_total_turnover  sbi_high\n",
              "Date                               ...                                       \n",
              "2021-06-01   426.400    52067.510  ...                          nan   435.200\n",
              "2021-06-02   431.850    51749.100  ...               1433240052.000   437.900\n",
              "2021-06-03   437.400    52121.580  ...               1121732631.000   442.000\n",
              "2021-06-04   437.500    52367.520  ...                777467898.000   441.850\n",
              "2021-06-07   435.450    52231.380  ...                706218748.000   437.350\n",
              "...              ...          ...  ...                          ...       ...\n",
              "2021-12-27   454.000    56948.330  ...                330920177.000   460.500\n",
              "2021-12-28   460.900    57751.210  ...                196822443.000   462.700\n",
              "2021-12-29   461.400    57892.310  ...                165347679.000   462.100\n",
              "2021-12-30   453.300    57755.400  ...                156429735.000   454.850\n",
              "2021-12-31   454.900    57849.760  ...                257807741.000   461.400\n",
              "\n",
              "[148 rows x 5 columns]"
            ]
          },
          "metadata": {},
          "execution_count": 10
        }
      ]
    },
    {
      "cell_type": "code",
      "source": [
        "X = data.iloc[1:, :-1].values\n",
        "y = data.iloc[1:, -1].values"
      ],
      "metadata": {
        "id": "ftfU_rwyAcEq"
      },
      "execution_count": 16,
      "outputs": []
    },
    {
      "cell_type": "code",
      "source": [
        "y = y.reshape(len(y),1)"
      ],
      "metadata": {
        "id": "hzz2sZEUAil_"
      },
      "execution_count": 19,
      "outputs": []
    },
    {
      "cell_type": "code",
      "source": [
        "from sklearn.preprocessing import StandardScaler\n",
        "sc_X1 = StandardScaler()\n",
        "sc_X2 = StandardScaler()\n",
        "sc_X3 = StandardScaler()\n",
        "sc_X4 = StandardScaler()\n",
        "sc_X5= StandardScaler()\n",
        "sc_y = StandardScaler()"
      ],
      "metadata": {
        "id": "s9RulbSEBD2H"
      },
      "execution_count": 26,
      "outputs": []
    },
    {
      "cell_type": "code",
      "source": [
        "X = sc_X.fit_transform()\n",
        "y = sc_y.fit_transform(y)"
      ],
      "metadata": {
        "colab": {
          "base_uri": "https://localhost:8080/",
          "height": 183
        },
        "id": "TQQtJiO2GCwe",
        "outputId": "21f6b25f-9898-4c90-cf7b-e4f8f44bb4c3"
      },
      "execution_count": 27,
      "outputs": [
        {
          "output_type": "error",
          "ename": "TypeError",
          "evalue": "ignored",
          "traceback": [
            "\u001b[0;31m---------------------------------------------------------------------------\u001b[0m",
            "\u001b[0;31mTypeError\u001b[0m                                 Traceback (most recent call last)",
            "\u001b[0;32m<ipython-input-27-fecce15df90e>\u001b[0m in \u001b[0;36m<module>\u001b[0;34m()\u001b[0m\n\u001b[0;32m----> 1\u001b[0;31m \u001b[0mX\u001b[0m \u001b[0;34m=\u001b[0m \u001b[0msc_X\u001b[0m\u001b[0;34m.\u001b[0m\u001b[0mfit_transform\u001b[0m\u001b[0;34m(\u001b[0m\u001b[0;34m)\u001b[0m\u001b[0;34m\u001b[0m\u001b[0;34m\u001b[0m\u001b[0m\n\u001b[0m\u001b[1;32m      2\u001b[0m \u001b[0my\u001b[0m \u001b[0;34m=\u001b[0m \u001b[0msc_y\u001b[0m\u001b[0;34m.\u001b[0m\u001b[0mfit_transform\u001b[0m\u001b[0;34m(\u001b[0m\u001b[0my\u001b[0m\u001b[0;34m)\u001b[0m\u001b[0;34m\u001b[0m\u001b[0;34m\u001b[0m\u001b[0m\n",
            "\u001b[0;31mTypeError\u001b[0m: fit_transform() missing 1 required positional argument: 'X'"
          ]
        }
      ]
    }
  ]
}