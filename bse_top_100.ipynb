{
  "nbformat": 4,
  "nbformat_minor": 0,
  "metadata": {
    "colab": {
      "name": "bse top 100.ipynb",
      "provenance": [],
      "collapsed_sections": [],
      "authorship_tag": "ABX9TyN2t7aTGHtOeJTyc4BiiJG1",
      "include_colab_link": true
    },
    "kernelspec": {
      "name": "python3",
      "display_name": "Python 3"
    },
    "accelerator": "GPU"
  },
  "cells": [
    {
      "cell_type": "markdown",
      "metadata": {
        "id": "view-in-github",
        "colab_type": "text"
      },
      "source": [
        "<a href=\"https://colab.research.google.com/github/mastermindankur/stock-analysis/blob/main/bse_top_100.ipynb\" target=\"_parent\"><img src=\"https://colab.research.google.com/assets/colab-badge.svg\" alt=\"Open In Colab\"/></a>"
      ]
    },
    {
      "cell_type": "markdown",
      "metadata": {
        "id": "PCkE9GhZF15p"
      },
      "source": [
        "In the notebook, I am going to look at the top 100 BSE stocks by Capital Market and see which ones turned profitale or not"
      ]
    },
    {
      "cell_type": "code",
      "metadata": {
        "colab": {
          "base_uri": "https://localhost:8080/"
        },
        "id": "KoJEr8XRplbY",
        "outputId": "693fb5c5-76ab-45cd-97a6-b9240d3e3937"
      },
      "source": [
        "!pip install bsedata\r\n",
        "!pip install quandl"
      ],
      "execution_count": 26,
      "outputs": [
        {
          "output_type": "stream",
          "text": [
            "Requirement already satisfied: bsedata in /usr/local/lib/python3.6/dist-packages (0.4.0)\n",
            "Requirement already satisfied: beautifulsoup4 in /usr/local/lib/python3.6/dist-packages (from bsedata) (4.6.3)\n",
            "Requirement already satisfied: requests in /usr/local/lib/python3.6/dist-packages (from bsedata) (2.23.0)\n",
            "Requirement already satisfied: lxml in /usr/local/lib/python3.6/dist-packages (from bsedata) (4.2.6)\n",
            "Requirement already satisfied: urllib3!=1.25.0,!=1.25.1,<1.26,>=1.21.1 in /usr/local/lib/python3.6/dist-packages (from requests->bsedata) (1.24.3)\n",
            "Requirement already satisfied: chardet<4,>=3.0.2 in /usr/local/lib/python3.6/dist-packages (from requests->bsedata) (3.0.4)\n",
            "Requirement already satisfied: idna<3,>=2.5 in /usr/local/lib/python3.6/dist-packages (from requests->bsedata) (2.10)\n",
            "Requirement already satisfied: certifi>=2017.4.17 in /usr/local/lib/python3.6/dist-packages (from requests->bsedata) (2020.12.5)\n",
            "Requirement already satisfied: quandl in /usr/local/lib/python3.6/dist-packages (3.6.0)\n",
            "Requirement already satisfied: more-itertools in /usr/local/lib/python3.6/dist-packages (from quandl) (8.6.0)\n",
            "Requirement already satisfied: inflection>=0.3.1 in /usr/local/lib/python3.6/dist-packages (from quandl) (0.5.1)\n",
            "Requirement already satisfied: numpy>=1.8 in /usr/local/lib/python3.6/dist-packages (from quandl) (1.19.5)\n",
            "Requirement already satisfied: requests>=2.7.0 in /usr/local/lib/python3.6/dist-packages (from quandl) (2.23.0)\n",
            "Requirement already satisfied: six in /usr/local/lib/python3.6/dist-packages (from quandl) (1.15.0)\n",
            "Requirement already satisfied: pandas>=0.14 in /usr/local/lib/python3.6/dist-packages (from quandl) (1.1.5)\n",
            "Requirement already satisfied: python-dateutil in /usr/local/lib/python3.6/dist-packages (from quandl) (2.8.1)\n",
            "Requirement already satisfied: certifi>=2017.4.17 in /usr/local/lib/python3.6/dist-packages (from requests>=2.7.0->quandl) (2020.12.5)\n",
            "Requirement already satisfied: idna<3,>=2.5 in /usr/local/lib/python3.6/dist-packages (from requests>=2.7.0->quandl) (2.10)\n",
            "Requirement already satisfied: urllib3!=1.25.0,!=1.25.1,<1.26,>=1.21.1 in /usr/local/lib/python3.6/dist-packages (from requests>=2.7.0->quandl) (1.24.3)\n",
            "Requirement already satisfied: chardet<4,>=3.0.2 in /usr/local/lib/python3.6/dist-packages (from requests>=2.7.0->quandl) (3.0.4)\n",
            "Requirement already satisfied: pytz>=2017.2 in /usr/local/lib/python3.6/dist-packages (from pandas>=0.14->quandl) (2018.9)\n"
          ],
          "name": "stdout"
        }
      ]
    },
    {
      "cell_type": "code",
      "metadata": {
        "id": "1ulxIChkpphF"
      },
      "source": [
        "import matplotlib.pyplot as plt\r\n",
        "import numpy as np\r\n",
        "import pandas as pd\r\n",
        "import matplotlib.dates as dates\r\n",
        "import quandl\r\n",
        "import requests\r\n",
        "import warnings; warnings.simplefilter('ignore')\r\n",
        "%matplotlib inline"
      ],
      "execution_count": 27,
      "outputs": []
    },
    {
      "cell_type": "code",
      "metadata": {
        "id": "7Wx9JSUMipxN"
      },
      "source": [
        "# to be ale to view numbers in human readable format 2.058691e+08\r\n",
        "pd.set_option('display.float_format', lambda x: '%.3f' % x)\r\n",
        "quandl.ApiConfig.api_key = 'izbxGLp_K_zzzUJdN9sp'"
      ],
      "execution_count": 28,
      "outputs": []
    },
    {
      "cell_type": "markdown",
      "metadata": {
        "id": "r2SdDc0dGsil"
      },
      "source": [
        ""
      ]
    },
    {
      "cell_type": "markdown",
      "metadata": {
        "id": "ygC937bpGsnw"
      },
      "source": [
        "**Function Name:**  profit_or_loss_sk_anku_SR_strategy.\r\n",
        "\r\n",
        "**Function Inputs**: Code of the Stock, Start Date and End Date constitute the date range.\r\n",
        "\r\n",
        "**Daily Budget:** Amount on which I want to take up every trade\r\n",
        "\r\n",
        "**Return Value**\r\n",
        "s1r1_count - No of Trades that happened as per Support and Resistance Stratey\r\n",
        "\r\n",
        "forced_count - No of Trades that we were able to Buy at Support price and forced to sell at Closing Price\r\n",
        "\r\n",
        "condition_not_matched_count - Count of days where trade did not happen because our prices were not reached\r\n",
        "\r\n",
        "profit_s1r1 - Profit made as per Support-Resistance Strategy\r\n",
        "\r\n",
        "profit_forced - Profit or Loss made as per selling forcefully at Closing Price\r\n",
        "\r\n",
        "net_profit_per_share = profit_s1r1 + profit_forced. Total Profit Made\r\n",
        "\r\n",
        "cumulative_profit -Total Profit Made if we had purchaed stocks as per Daily Budget\r\n",
        "\r\n",
        "percentage_return - Return out of 100"
      ]
    },
    {
      "cell_type": "code",
      "metadata": {
        "id": "bwgJU7cEpy-C"
      },
      "source": [
        "def profit_or_loss_sk_anku_SR_strategy(code,start,end,daily_budget):\r\n",
        "  sbi =quandl.get(code, start_date=start, end_date=end)  \r\n",
        "  # Calculate Pivot, S1,R1,S2,R2,S3,R3\r\n",
        "  sbi['PP']= (sbi['High']+sbi['Low']+sbi['Close'])/3\r\n",
        "  sbi['R1']= 2*sbi['PP'] -sbi['Low']\r\n",
        "  sbi['S1']= 2*sbi['PP'] -sbi['High']\r\n",
        "  sbi['R2']= sbi['PP'] + (sbi['High'] - sbi['Low']) \r\n",
        "  sbi['S2']= sbi['PP'] - (sbi['High'] - sbi['Low']) \r\n",
        "  sbi['R3']= sbi['High'] + 2*(sbi['PP'] - sbi['Low'])\r\n",
        "  sbi['S3']= sbi['Low'] - 2*(sbi['High'] - sbi['PP'])\r\n",
        "\r\n",
        "  #No of shares worth 50,000 Rupees or daily_budget/share\r\n",
        "  #Up and Down are the tick values\r\n",
        "  no_of_shares=daily_budget/sbi['Open'].median()\r\n",
        "  up= sbi['Spread H-L'].median()*.10\r\n",
        "  down= sbi['Spread H-L'].median() *.10\r\n",
        "  #up=1\r\n",
        "  #down=1\r\n",
        "\r\n",
        "  sbi['Buy']= sbi['S1'].shift(1) + up\r\n",
        "  sbi['Sell']= sbi['R1'].shift(1) - down\r\n",
        "\r\n",
        "  sbi['got_it'] = 0\r\n",
        "  # if the trade happened between support and resistance levels, put 1 in ot_it column\r\n",
        "  sbi.loc[(sbi['Buy']>sbi['Low']) & (sbi['Sell'] <sbi['High']) & (sbi['Sell']>sbi['Buy']),'got_it']=1\r\n",
        "  # If i was able to Buy but not able to sell it becuase price did not hit resistance level, put 2 in got_it column\r\n",
        "  sbi.loc[(sbi['Buy']>sbi['Low']) & (sbi['Sell'] >sbi['High']) ,'got_it']=2\r\n",
        "  sbi['Profit']=0\r\n",
        "  profit= sbi['Sell']-sbi['Buy']\r\n",
        "  forced_profit_or_loss= sbi['Close']-sbi['Buy']\r\n",
        "\r\n",
        "  sbi.loc[(sbi['got_it']==1) ,'Profit']=profit\r\n",
        "  sbi.loc[(sbi['got_it']==2) ,'Profit']=forced_profit_or_loss\r\n",
        "  \r\n",
        "  s1r1_count= sbi[sbi['got_it']==1]['got_it'].count()\r\n",
        "  forced_count= sbi[sbi['got_it']==2]['got_it'].count()\r\n",
        "  condition_not_matched_count= sbi[sbi['got_it']==0]['got_it'].count()\r\n",
        "  \r\n",
        "  profit_forced= sbi[sbi['got_it']==2]['Profit'].sum()\r\n",
        "  profit_s1r1=sbi[sbi['got_it']==1]['Profit'].sum()\r\n",
        "  net_profit_per_share= sbi['Profit'].sum()\r\n",
        "  cumulative_profit=sbi['Profit'].sum() * no_of_shares\r\n",
        "  percentage_return=sbi['Profit'].sum()/sbi['Open'].mean() *100\r\n",
        "\r\n",
        "  return s1r1_count,forced_count,condition_not_matched_count,profit_s1r1,profit_forced,net_profit_per_share,cumulative_profit,percentage_return"
      ],
      "execution_count": 36,
      "outputs": []
    },
    {
      "cell_type": "markdown",
      "metadata": {
        "id": "B1304RuCGnjP"
      },
      "source": [
        "Go to the URL https://www.bseindia.com/markets/equity/EQReports/TopMarketCapitalization.aspx and find the top 100 stocks and call the function called profit_or_loss_sk_anku_SR_strategy.\r\n"
      ]
    },
    {
      "cell_type": "code",
      "metadata": {
        "id": "xG2xoyX_iiH0"
      },
      "source": [
        "url = 'https://www.bseindia.com/markets/equity/EQReports/TopMarketCapitalization.aspx'\r\n",
        "header = {\r\n",
        "  \"User-Agent\": \"Mozilla/5.0 (X11; Linux x86_64) AppleWebKit/537.36 (KHTML, like Gecko) Chrome/50.0.2661.75 Safari/537.36\",\r\n",
        "  \"X-Requested-With\": \"XMLHttpRequest\"\r\n",
        "}\r\n",
        "r = requests.get(url, headers=header)\r\n",
        "dfs = pd.read_html(r.text)\r\n",
        "bse100= dfs[0].iloc[0:100]\r\n",
        "bse100['Code']='BSE/BOM'+ bse100['Security Code']"
      ],
      "execution_count": 37,
      "outputs": []
    },
    {
      "cell_type": "code",
      "metadata": {
        "colab": {
          "base_uri": "https://localhost:8080/"
        },
        "id": "3OpTOH41owir",
        "outputId": "3cd44615-d039-4676-ac0d-b4a02a1a26e6"
      },
      "source": [
        "# Initialising all values to Zero\r\n",
        "#bse100['s1r1_count']=0\r\n",
        "#bse100['forced_count']=0\r\n",
        "#bse100['condition_not_matched_count']=0\r\n",
        "#bse100['profit_trade_at_S1R1']=0.0\r\n",
        "#bse100['profit_forced_sold_at_ClosingPrice']=0.0\r\n",
        "#bse100['net_profit_per_share']=0.0\r\n",
        "#bse100['cumulative_profit']=0.0\r\n",
        "#bse100['percentage_return']=0.0\r\n",
        "\r\n",
        "for i in bse100.index: \r\n",
        "     print(bse100['Code'][i]) \r\n",
        "     code= bse100['Code'][i]\r\n",
        "     try:\r\n",
        "       s1r1_count,forced_count,condition_not_matched_count,profit_trade_at_S1R1,profit_forced_sold_at_ClosingPrice,net_profit_per_share,cumulative_profit,percentage_return= profit_or_loss_sk_anku_SR_strategy(code,start='2020-12-01', end='2021-01-15',daily_budget=50000)\r\n",
        "     except Exception:\r\n",
        "      pass\r\n",
        "     \r\n",
        "     # Setting the new value\r\n",
        "     #data.loc[data.bidder == 'parakeet2004', 'bidderrate'] = 100\r\n",
        "     bse100.loc[i,'s1r1_count']=s1r1_count\r\n",
        "     bse100.loc[i,'forced_count']=forced_count\r\n",
        "     bse100.loc[i,'condition_not_matched_count']=condition_not_matched_count\r\n",
        "     bse100.loc[i,'profit_trade_at_S1R1']=profit_trade_at_S1R1\r\n",
        "     bse100.loc[i,'profit_forced_sold_at_ClosingPrice']=profit_forced_sold_at_ClosingPrice\r\n",
        "     bse100.loc[i,'net_profit_per_share']=net_profit_per_share\r\n",
        "     bse100.loc[i,'cumulative_profit']=cumulative_profit\r\n",
        "     bse100.loc[i,'percentage_return']=percentage_return\r\n",
        "\r\n",
        "     #bse100['forced_count'][i]=forced_count\r\n",
        "     #bse100['condition_not_matched_count'][i]=condition_not_matched_count\r\n",
        "     #bse100['profit_s1r1'][i]=profit_trade_at_S1R1\r\n",
        "     #bse100['profit_forced'][i]=profit_forced_sold_at_ClosingPrice\r\n",
        "     #bse100['net_profit_per_share'][i]=net_profit_per_share\r\n",
        "     #bse100['cumulative_profit'][i]=cumulative_profit\r\n",
        "     #bse100['percentage_return'][i]=percentage_return\r\n",
        "\r\n"
      ],
      "execution_count": 38,
      "outputs": [
        {
          "output_type": "stream",
          "text": [
            "BSE/BOM500325\n",
            "BSE/BOM532540\n",
            "BSE/BOM500180\n",
            "BSE/BOM500209\n",
            "BSE/BOM500696\n",
            "BSE/BOM500010\n",
            "BSE/BOM532174\n",
            "BSE/BOM500247\n",
            "BSE/BOM532454\n",
            "BSE/BOM500034\n",
            "BSE/BOM500112\n",
            "BSE/BOM532281\n",
            "BSE/BOM500875\n",
            "BSE/BOM507685\n",
            "BSE/BOM500820\n",
            "BSE/BOM532500\n",
            "BSE/BOM532215\n",
            "BSE/BOM500510\n",
            "BSE/BOM540376\n",
            "BSE/BOM500790\n",
            "BSE/BOM532538\n",
            "BSE/BOM541450\n",
            "BSE/BOM524715\n",
            "BSE/BOM540777\n",
            "BSE/BOM532978\n",
            "BSE/BOM500114\n",
            "BSE/BOM500312\n",
            "BSE/BOM500188\n",
            "BSE/BOM532921\n",
            "BSE/BOM532898\n",
            "BSE/BOM532977\n",
            "BSE/BOM500520\n",
            "BSE/BOM532555\n",
            "BSE/BOM532755\n",
            "BSE/BOM532488\n",
            "BSE/BOM500096\n",
            "BSE/BOM530965\n",
            "BSE/BOM500228\n",
            "BSE/BOM540719\n",
            "BSE/BOM500547\n",
            "BSE/BOM543066\n",
            "BSE/BOM533278\n",
            "BSE/BOM500331\n",
            "BSE/BOM500387\n",
            "BSE/BOM500825\n",
            "BSE/BOM500124\n",
            "BSE/BOM500470\n",
            "BSE/BOM500570\n",
            "BSE/BOM532424\n",
            "BSE/BOM505200\n",
            "BSE/BOM509480\n",
            "BSE/BOM540005\n",
            "BSE/BOM532187\n",
            "BSE/BOM540133\n",
            "BSE/BOM534816\n",
            "BSE/BOM540716\n",
            "BSE/BOM532868\n",
            "BSE/BOM541729\n",
            "BSE/BOM500300\n",
            "BSE/BOM500087\n",
            "BSE/BOM500295\n",
            "BSE/BOM532777\n",
            "BSE/BOM500182\n",
            "BSE/BOM539448\n",
            "BSE/BOM532155\n",
            "BSE/BOM517354\n",
            "BSE/BOM541153\n",
            "BSE/BOM512599\n",
            "BSE/BOM500550\n",
            "BSE/BOM500440\n",
            "BSE/BOM500800\n",
            "BSE/BOM524804\n",
            "BSE/BOM532523\n",
            "BSE/BOM531642\n",
            "BSE/BOM500425\n",
            "BSE/BOM517334\n",
            "BSE/BOM532321\n",
            "BSE/BOM500257\n",
            "BSE/BOM533398\n",
            "BSE/BOM539254\n",
            "BSE/BOM532432\n",
            "BSE/BOM500420\n",
            "BSE/BOM532648\n",
            "BSE/BOM500530\n",
            "BSE/BOM500830\n",
            "BSE/BOM512070\n",
            "BSE/BOM542066\n",
            "BSE/BOM532822\n",
            "BSE/BOM532522\n",
            "BSE/BOM543245\n",
            "BSE/BOM532514\n",
            "BSE/BOM532461\n",
            "BSE/BOM526371\n",
            "BSE/BOM500290\n",
            "BSE/BOM539523\n",
            "BSE/BOM500459\n",
            "BSE/BOM500302\n",
            "BSE/BOM508869\n",
            "BSE/BOM533155\n",
            "BSE/BOM500490\n"
          ],
          "name": "stdout"
        }
      ]
    },
    {
      "cell_type": "code",
      "metadata": {
        "id": "pfvznqYDSIXY"
      },
      "source": [
        "bse100[['Security Name','Code','s1r1_count','forced_count','condition_not_matched_count','profit_trade_at_S1R1','profit_forced_sold_at_ClosingPrice','net_profit_per_share','cumulative_profit','percentage_return']].to_excel('BSE100Summary.xlsx',sheet_name='xx')"
      ],
      "execution_count": 39,
      "outputs": []
    },
    {
      "cell_type": "code",
      "metadata": {
        "colab": {
          "base_uri": "https://localhost:8080/",
          "height": 745
        },
        "id": "vfNFvZKQXXnC",
        "outputId": "f76e3c29-24f5-42f9-f46a-9500b6f42dbe"
      },
      "source": [
        "bse100[['Security Name','Code','s1r1_count','forced_count','condition_not_matched_count','profit_trade_at_S1R1','profit_forced_sold_at_ClosingPrice','net_profit_per_share','cumulative_profit','percentage_return']]"
      ],
      "execution_count": 40,
      "outputs": [
        {
          "output_type": "execute_result",
          "data": {
            "text/html": [
              "<div>\n",
              "<style scoped>\n",
              "    .dataframe tbody tr th:only-of-type {\n",
              "        vertical-align: middle;\n",
              "    }\n",
              "\n",
              "    .dataframe tbody tr th {\n",
              "        vertical-align: top;\n",
              "    }\n",
              "\n",
              "    .dataframe thead th {\n",
              "        text-align: right;\n",
              "    }\n",
              "</style>\n",
              "<table border=\"1\" class=\"dataframe\">\n",
              "  <thead>\n",
              "    <tr style=\"text-align: right;\">\n",
              "      <th></th>\n",
              "      <th>Security Name</th>\n",
              "      <th>Code</th>\n",
              "      <th>s1r1_count</th>\n",
              "      <th>forced_count</th>\n",
              "      <th>condition_not_matched_count</th>\n",
              "      <th>profit_trade_at_S1R1</th>\n",
              "      <th>profit_forced_sold_at_ClosingPrice</th>\n",
              "      <th>net_profit_per_share</th>\n",
              "      <th>cumulative_profit</th>\n",
              "      <th>percentage_return</th>\n",
              "    </tr>\n",
              "  </thead>\n",
              "  <tbody>\n",
              "    <tr>\n",
              "      <th>0</th>\n",
              "      <td>RELIANCE INDUSTRIES LTD.</td>\n",
              "      <td>BSE/BOM500325</td>\n",
              "      <td>8.000</td>\n",
              "      <td>8.000</td>\n",
              "      <td>17.000</td>\n",
              "      <td>212.350</td>\n",
              "      <td>-83.950</td>\n",
              "      <td>128.400</td>\n",
              "      <td>3258.883</td>\n",
              "      <td>6.515</td>\n",
              "    </tr>\n",
              "    <tr>\n",
              "      <th>1</th>\n",
              "      <td>TATA CONSULTANCY SERVICES LTD.</td>\n",
              "      <td>BSE/BOM532540</td>\n",
              "      <td>7.000</td>\n",
              "      <td>6.000</td>\n",
              "      <td>20.000</td>\n",
              "      <td>227.540</td>\n",
              "      <td>-42.690</td>\n",
              "      <td>184.850</td>\n",
              "      <td>3210.316</td>\n",
              "      <td>6.347</td>\n",
              "    </tr>\n",
              "    <tr>\n",
              "      <th>2</th>\n",
              "      <td>HDFC Bank Ltd</td>\n",
              "      <td>BSE/BOM500180</td>\n",
              "      <td>7.000</td>\n",
              "      <td>9.000</td>\n",
              "      <td>17.000</td>\n",
              "      <td>130.960</td>\n",
              "      <td>-28.673</td>\n",
              "      <td>102.287</td>\n",
              "      <td>3608.504</td>\n",
              "      <td>7.214</td>\n",
              "    </tr>\n",
              "    <tr>\n",
              "      <th>3</th>\n",
              "      <td>INFOSYS LTD.</td>\n",
              "      <td>BSE/BOM500209</td>\n",
              "      <td>9.000</td>\n",
              "      <td>7.000</td>\n",
              "      <td>17.000</td>\n",
              "      <td>156.300</td>\n",
              "      <td>30.483</td>\n",
              "      <td>186.783</td>\n",
              "      <td>7549.852</td>\n",
              "      <td>15.213</td>\n",
              "    </tr>\n",
              "    <tr>\n",
              "      <th>4</th>\n",
              "      <td>HINDUSTAN UNILEVER LTD.</td>\n",
              "      <td>BSE/BOM500696</td>\n",
              "      <td>8.000</td>\n",
              "      <td>7.000</td>\n",
              "      <td>18.000</td>\n",
              "      <td>196.660</td>\n",
              "      <td>-92.313</td>\n",
              "      <td>104.347</td>\n",
              "      <td>2201.499</td>\n",
              "      <td>4.466</td>\n",
              "    </tr>\n",
              "    <tr>\n",
              "      <th>...</th>\n",
              "      <td>...</td>\n",
              "      <td>...</td>\n",
              "      <td>...</td>\n",
              "      <td>...</td>\n",
              "      <td>...</td>\n",
              "      <td>...</td>\n",
              "      <td>...</td>\n",
              "      <td>...</td>\n",
              "      <td>...</td>\n",
              "      <td>...</td>\n",
              "    </tr>\n",
              "    <tr>\n",
              "      <th>95</th>\n",
              "      <td>PROCTER &amp; GAMBLE HYGIENE &amp; HEALTH CARE LTD.</td>\n",
              "      <td>BSE/BOM500459</td>\n",
              "      <td>9.000</td>\n",
              "      <td>8.000</td>\n",
              "      <td>16.000</td>\n",
              "      <td>887.610</td>\n",
              "      <td>6.927</td>\n",
              "      <td>894.537</td>\n",
              "      <td>4011.015</td>\n",
              "      <td>8.054</td>\n",
              "    </tr>\n",
              "    <tr>\n",
              "      <th>96</th>\n",
              "      <td>PIRAMAL ENTERPRISES LTD.</td>\n",
              "      <td>BSE/BOM500302</td>\n",
              "      <td>9.000</td>\n",
              "      <td>9.000</td>\n",
              "      <td>15.000</td>\n",
              "      <td>290.550</td>\n",
              "      <td>59.167</td>\n",
              "      <td>349.717</td>\n",
              "      <td>12041.756</td>\n",
              "      <td>23.920</td>\n",
              "    </tr>\n",
              "    <tr>\n",
              "      <th>97</th>\n",
              "      <td>APOLLO HOSPITALS ENTERPRISE LTD.</td>\n",
              "      <td>BSE/BOM508869</td>\n",
              "      <td>11.000</td>\n",
              "      <td>4.000</td>\n",
              "      <td>18.000</td>\n",
              "      <td>487.940</td>\n",
              "      <td>-4.837</td>\n",
              "      <td>483.103</td>\n",
              "      <td>9965.003</td>\n",
              "      <td>19.808</td>\n",
              "    </tr>\n",
              "    <tr>\n",
              "      <th>98</th>\n",
              "      <td>Jubilant FoodWorks Ltd</td>\n",
              "      <td>BSE/BOM533155</td>\n",
              "      <td>7.000</td>\n",
              "      <td>8.000</td>\n",
              "      <td>18.000</td>\n",
              "      <td>304.510</td>\n",
              "      <td>69.203</td>\n",
              "      <td>373.713</td>\n",
              "      <td>6867.206</td>\n",
              "      <td>13.789</td>\n",
              "    </tr>\n",
              "    <tr>\n",
              "      <th>99</th>\n",
              "      <td>BAJAJ HOLDINGS &amp; INVESTMENT LTD.</td>\n",
              "      <td>BSE/BOM500490</td>\n",
              "      <td>5.000</td>\n",
              "      <td>6.000</td>\n",
              "      <td>22.000</td>\n",
              "      <td>153.900</td>\n",
              "      <td>-27.217</td>\n",
              "      <td>126.683</td>\n",
              "      <td>2043.280</td>\n",
              "      <td>4.078</td>\n",
              "    </tr>\n",
              "  </tbody>\n",
              "</table>\n",
              "<p>100 rows × 10 columns</p>\n",
              "</div>"
            ],
            "text/plain": [
              "                                  Security Name  ... percentage_return\n",
              "0                      RELIANCE INDUSTRIES LTD.  ...             6.515\n",
              "1                TATA CONSULTANCY SERVICES LTD.  ...             6.347\n",
              "2                                 HDFC Bank Ltd  ...             7.214\n",
              "3                                  INFOSYS LTD.  ...            15.213\n",
              "4                       HINDUSTAN UNILEVER LTD.  ...             4.466\n",
              "..                                          ...  ...               ...\n",
              "95  PROCTER & GAMBLE HYGIENE & HEALTH CARE LTD.  ...             8.054\n",
              "96                     PIRAMAL ENTERPRISES LTD.  ...            23.920\n",
              "97             APOLLO HOSPITALS ENTERPRISE LTD.  ...            19.808\n",
              "98                       Jubilant FoodWorks Ltd  ...            13.789\n",
              "99             BAJAJ HOLDINGS & INVESTMENT LTD.  ...             4.078\n",
              "\n",
              "[100 rows x 10 columns]"
            ]
          },
          "metadata": {
            "tags": []
          },
          "execution_count": 40
        }
      ]
    },
    {
      "cell_type": "code",
      "metadata": {
        "colab": {
          "base_uri": "https://localhost:8080/"
        },
        "id": "xQM6kx36JjtA",
        "outputId": "7be4b108-10f4-4d42-f3a0-ae0595f4cd34"
      },
      "source": [
        "bse100['percentage_return'].median()"
      ],
      "execution_count": 41,
      "outputs": [
        {
          "output_type": "execute_result",
          "data": {
            "text/plain": [
              "7.8849798685462105"
            ]
          },
          "metadata": {
            "tags": []
          },
          "execution_count": 41
        }
      ]
    },
    {
      "cell_type": "code",
      "metadata": {
        "colab": {
          "base_uri": "https://localhost:8080/",
          "height": 391
        },
        "id": "rbY268COFUVV",
        "outputId": "84cf97ed-df55-44e2-9c01-bd3451653998"
      },
      "source": [
        "bse100['percentage_return'].plot(figsize=(16,6))\r\n",
        "#bse100[bse100['percentage_return']<0]"
      ],
      "execution_count": 42,
      "outputs": [
        {
          "output_type": "execute_result",
          "data": {
            "text/plain": [
              "<matplotlib.axes._subplots.AxesSubplot at 0x7ff10c4d41d0>"
            ]
          },
          "metadata": {
            "tags": []
          },
          "execution_count": 42
        },
        {
          "output_type": "display_data",
          "data": {
            "image/png": "[encoded data removed]",
            "text/plain": [
              "<Figure size 1152x432 with 1 Axes>"
            ]
          },
          "metadata": {
            "tags": [],
            "needs_background": "light"
          }
        }
      ]
    }
  ]
}