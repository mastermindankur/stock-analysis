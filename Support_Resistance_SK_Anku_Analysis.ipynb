{
  "nbformat": 4,
  "nbformat_minor": 0,
  "metadata": {
    "colab": {
      "name": "Support Resistance SK-Anku Analysis.ipynb",
      "provenance": [],
      "collapsed_sections": [],
      "include_colab_link": true
    },
    "kernelspec": {
      "name": "python3",
      "display_name": "Python 3"
    }
  },
  "cells": [
    {
      "cell_type": "markdown",
      "metadata": {
        "id": "view-in-github",
        "colab_type": "text"
      },
      "source": [
        "<a href=\"https://colab.research.google.com/github/mastermindankur/stock-analysis/blob/main/Support_Resistance_SK_Anku_Analysis.ipynb\" target=\"_parent\"><img src=\"https://colab.research.google.com/assets/colab-badge.svg\" alt=\"Open In Colab\"/></a>"
      ]
    },
    {
      "cell_type": "code",
      "metadata": {
        "colab": {
          "base_uri": "https://localhost:8080/"
        },
        "id": "oG0Wlrw9THPk",
        "outputId": "98d9fd1b-fff7-42d1-aa90-dea8f4fff2e5"
      },
      "source": [
        "!pip install bsedata\r\n",
        "!pip install quandl"
      ],
      "execution_count": 96,
      "outputs": [
        {
          "output_type": "stream",
          "text": [
            "Requirement already satisfied: bsedata in /usr/local/lib/python3.7/dist-packages (0.4.0)\n",
            "Requirement already satisfied: requests in /usr/local/lib/python3.7/dist-packages (from bsedata) (2.23.0)\n",
            "Requirement already satisfied: beautifulsoup4 in /usr/local/lib/python3.7/dist-packages (from bsedata) (4.6.3)\n",
            "Requirement already satisfied: lxml in /usr/local/lib/python3.7/dist-packages (from bsedata) (4.2.6)\n",
            "Requirement already satisfied: chardet<4,>=3.0.2 in /usr/local/lib/python3.7/dist-packages (from requests->bsedata) (3.0.4)\n",
            "Requirement already satisfied: certifi>=2017.4.17 in /usr/local/lib/python3.7/dist-packages (from requests->bsedata) (2020.12.5)\n",
            "Requirement already satisfied: idna<3,>=2.5 in /usr/local/lib/python3.7/dist-packages (from requests->bsedata) (2.10)\n",
            "Requirement already satisfied: urllib3!=1.25.0,!=1.25.1,<1.26,>=1.21.1 in /usr/local/lib/python3.7/dist-packages (from requests->bsedata) (1.24.3)\n",
            "Requirement already satisfied: quandl in /usr/local/lib/python3.7/dist-packages (3.6.1)\n",
            "Requirement already satisfied: six in /usr/local/lib/python3.7/dist-packages (from quandl) (1.15.0)\n",
            "Requirement already satisfied: numpy>=1.8 in /usr/local/lib/python3.7/dist-packages (from quandl) (1.19.5)\n",
            "Requirement already satisfied: inflection>=0.3.1 in /usr/local/lib/python3.7/dist-packages (from quandl) (0.5.1)\n",
            "Requirement already satisfied: requests>=2.7.0 in /usr/local/lib/python3.7/dist-packages (from quandl) (2.23.0)\n",
            "Requirement already satisfied: pandas>=0.14 in /usr/local/lib/python3.7/dist-packages (from quandl) (1.1.5)\n",
            "Requirement already satisfied: more-itertools in /usr/local/lib/python3.7/dist-packages (from quandl) (8.7.0)\n",
            "Requirement already satisfied: python-dateutil in /usr/local/lib/python3.7/dist-packages (from quandl) (2.8.1)\n",
            "Requirement already satisfied: certifi>=2017.4.17 in /usr/local/lib/python3.7/dist-packages (from requests>=2.7.0->quandl) (2020.12.5)\n",
            "Requirement already satisfied: chardet<4,>=3.0.2 in /usr/local/lib/python3.7/dist-packages (from requests>=2.7.0->quandl) (3.0.4)\n",
            "Requirement already satisfied: urllib3!=1.25.0,!=1.25.1,<1.26,>=1.21.1 in /usr/local/lib/python3.7/dist-packages (from requests>=2.7.0->quandl) (1.24.3)\n",
            "Requirement already satisfied: idna<3,>=2.5 in /usr/local/lib/python3.7/dist-packages (from requests>=2.7.0->quandl) (2.10)\n",
            "Requirement already satisfied: pytz>=2017.2 in /usr/local/lib/python3.7/dist-packages (from pandas>=0.14->quandl) (2018.9)\n"
          ],
          "name": "stdout"
        }
      ]
    },
    {
      "cell_type": "code",
      "metadata": {
        "id": "CBaCYGB-TtaL"
      },
      "source": [
        "import matplotlib.pyplot as plt\r\n",
        "import numpy as np\r\n",
        "import pandas as pd\r\n",
        "import matplotlib.dates as dates\r\n",
        "import quandl\r\n",
        "%matplotlib inline"
      ],
      "execution_count": 97,
      "outputs": []
    },
    {
      "cell_type": "code",
      "metadata": {
        "id": "9yaCM5XiT5Cx"
      },
      "source": [
        "# to be ale to view numbers in human readable format 2.058691e+08\r\n",
        "#izbxGLp_K_zzzUJdN9sp\r\n",
        "pd.set_option('display.float_format', lambda x: '%.3f' % x)"
      ],
      "execution_count": 98,
      "outputs": []
    },
    {
      "cell_type": "code",
      "metadata": {
        "id": "e_bPTCW-wYJP"
      },
      "source": [
        "quandl.ApiConfig.api_key = 'izbxGLp_K_zzzUJdN9sp'"
      ],
      "execution_count": 99,
      "outputs": []
    },
    {
      "cell_type": "code",
      "metadata": {
        "id": "CRBdL5Q7UCWl"
      },
      "source": [
        "sbi =quandl.get('BSE/BOM500112', start_date='2021-01-01', end_date='2021-03-14')"
      ],
      "execution_count": 100,
      "outputs": []
    },
    {
      "cell_type": "markdown",
      "metadata": {
        "id": "LAuZb6H0Vc1f"
      },
      "source": [
        "**Pivot Point Calculation**\r\n",
        "\r\n",
        "Pivot point (PP) = (High + Low + Close) / 3.\r\n",
        "\r\n",
        "First resistance (R1) = (2 x PP) – Low.\r\n",
        "\r\n",
        "First support (S1) = (2 x PP) – High.\r\n",
        "\r\n",
        "Second resistance (R2) = PP + (High – Low)\r\n",
        "\r\n",
        "Second support (S2) = PP – (High – Low)\r\n",
        "\r\n",
        "Third resistance (R3) = High + 2(PP – Low)\r\n",
        "\r\n",
        "Third support (S3) = Low – 2(High – PP)"
      ]
    },
    {
      "cell_type": "code",
      "metadata": {
        "id": "hxuIeCm5UYX2"
      },
      "source": [
        "sbi['PP']= (sbi['High']+sbi['Low']+sbi['Close'])/3\r\n",
        "sbi['R1']= 2*sbi['PP'] -sbi['Low']\r\n",
        "sbi['S1']= 2*sbi['PP'] -sbi['High']\r\n",
        "sbi['R2']= sbi['PP'] + (sbi['High'] - sbi['Low']) \r\n",
        "sbi['S2']= sbi['PP'] - (sbi['High'] - sbi['Low']) \r\n",
        "sbi['R3']= sbi['High'] + 2*(sbi['PP'] - sbi['Low'])\r\n",
        "sbi['S3']= sbi['Low'] - 2*(sbi['High'] - sbi['PP'])"
      ],
      "execution_count": 101,
      "outputs": []
    },
    {
      "cell_type": "code",
      "metadata": {
        "id": "DeDcTfCEzsQa"
      },
      "source": [
        "#No of shares worth 50,000 Rupees\r\n",
        "# Up and Down are the ticks above and below which we want to execute trade\r\n",
        "no_of_shares=50000/sbi['Open'].median()\r\n",
        "up= sbi['Spread H-L'].median()*.10\r\n",
        "down= sbi['Spread H-L'].median() *.10\r\n",
        "#up=1\r\n",
        "#down=1"
      ],
      "execution_count": 102,
      "outputs": []
    },
    {
      "cell_type": "markdown",
      "metadata": {
        "id": "Aye8_ele1q6L"
      },
      "source": [
        "**I will set the Target price in such a way, that i am will buy above the Support and will want to sell it below the Resistance**"
      ]
    },
    {
      "cell_type": "code",
      "metadata": {
        "id": "D2-XWEUzYzwJ"
      },
      "source": [
        "sbi['Buy']= sbi['S1'].shift(1) + up\r\n",
        "sbi['Sell']= sbi['R1'].shift(1) - down"
      ],
      "execution_count": 103,
      "outputs": []
    },
    {
      "cell_type": "code",
      "metadata": {
        "id": "XOKULaLkZ1UC"
      },
      "source": [
        "#sbi[['Open','High','Low','Close','PP','S1','R1','Buy','Sell']].head()"
      ],
      "execution_count": 104,
      "outputs": []
    },
    {
      "cell_type": "markdown",
      "metadata": {
        "id": "Z8eQxMQKzBue"
      },
      "source": [
        "The following Flags are set for 'got_it':\r\n",
        "\r\n",
        "**1** - If we are able to Buy at Support+delta and Sell at Resistance-delta the same day. Successful Trade.\r\n",
        "\r\n",
        "**2** - If we are able to Buy at Support+delta but not able to sell it since the Resistance-delta price never came.\r\n",
        "\r\n",
        "**0** - If we are not able to buy at all since Support+delta price was never reached that day"
      ]
    },
    {
      "cell_type": "code",
      "metadata": {
        "id": "Kb6cpbASauaZ"
      },
      "source": [
        "#sbi['got_it']=(sbi['Buy']>sbi['Low']) & (sbi['Sell'] <sbi['High']) & (sbi['Sell']>sbi['Buy'])\r\n",
        "# Set initial value set to 0 of all elements\r\n",
        "sbi['got_it'] = 0\r\n",
        "\r\n",
        "# if the trade happened between support and resistance levels, put 1 in got_it column\r\n",
        "sbi.loc[(sbi['Buy']>sbi['Low']) & (sbi['Sell'] <sbi['High']) & (sbi['Sell']>sbi['Buy']),'got_it']=1\r\n",
        "\r\n",
        "# If i was able to Buy but not able to sell it becuase price did not hit resistance level, put 2 in got_it column\r\n",
        "sbi.loc[(sbi['Buy']>sbi['Low']) & (sbi['Sell'] >sbi['High']) ,'got_it']=2"
      ],
      "execution_count": 105,
      "outputs": []
    },
    {
      "cell_type": "markdown",
      "metadata": {
        "id": "lJQGCPBIyHM4"
      },
      "source": [
        "When Resistance Level was hit the same day and trade happened successfully:\r\n",
        "\r\n",
        "**Profit = Selling Price  - Buying Price**\r\n",
        "\r\n",
        "However, when Resitance price did not hit, we are forcing to sell at Closing Price for that day. In that case:\r\n",
        "\r\n",
        "**Profit = Closing Price - Buying Price**"
      ]
    },
    {
      "cell_type": "code",
      "metadata": {
        "id": "my6t4y06lgwO"
      },
      "source": [
        "#df['color'] = np.where(df['Set']=='Z', 'green', 'red')\r\n",
        "sbi['Profit']=0\r\n",
        "profit= sbi['Sell']-sbi['Buy']\r\n",
        "forced_profit_or_loss= sbi['Close']-sbi['Buy']\r\n",
        "\r\n",
        "sbi.loc[(sbi['got_it']==1) ,'Profit']=profit\r\n",
        "sbi.loc[(sbi['got_it']==2) ,'Profit']=forced_profit_or_loss\r\n",
        "#sbi['Profit'] = np.where(sbi['got_it']==1, profit, 0)\r\n",
        "#sbi['Profit'] = np.where(sbi['got_it']==2, forced_profit_or_loss, 0)"
      ],
      "execution_count": 106,
      "outputs": []
    },
    {
      "cell_type": "code",
      "metadata": {
        "colab": {
          "base_uri": "https://localhost:8080/"
        },
        "id": "xH-_y5OKnFi1",
        "outputId": "77355d39-a439-40c5-bd7f-fe2d5eb3b44e"
      },
      "source": [
        "sbi['got_it'].value_counts()"
      ],
      "execution_count": 119,
      "outputs": [
        {
          "output_type": "execute_result",
          "data": {
            "text/plain": [
              "0    25\n",
              "2    12\n",
              "1    12\n",
              "Name: got_it, dtype: int64"
            ]
          },
          "metadata": {
            "tags": []
          },
          "execution_count": 119
        }
      ]
    },
    {
      "cell_type": "code",
      "metadata": {
        "colab": {
          "base_uri": "https://localhost:8080/",
          "height": 626
        },
        "id": "Uv5mZg79EqVP",
        "outputId": "c6191657-c3f1-4621-e00c-177e8b3b2b68"
      },
      "source": [
        "sbi['got_it'].plot.hist(label='Labels: 0= No Trade, 1 = Succesfull Trade, 2 = Squaredoff Trade', figsize=(12,10))\r\n",
        "plt.ylabel('# of Trades')\r\n",
        "plt.xlabel('Trade Status')\r\n",
        "plt.xticks([0,1,2])\r\n",
        "plt.style.use('ggplot')\r\n",
        "plt.legend()"
      ],
      "execution_count": 108,
      "outputs": [
        {
          "output_type": "execute_result",
          "data": {
            "text/plain": [
              "<matplotlib.legend.Legend at 0x7f406ddd6710>"
            ]
          },
          "metadata": {
            "tags": []
          },
          "execution_count": 108
        },
        {
          "output_type": "display_data",
          "data": {
            "image/png": "[encoded data removed]",
            "text/plain": [
              "<Figure size 864x720 with 1 Axes>"
            ]
          },
          "metadata": {
            "tags": [],
            "needs_background": "light"
          }
        }
      ]
    },
    {
      "cell_type": "code",
      "metadata": {
        "id": "HSfItDLBoptn"
      },
      "source": [
        ""
      ],
      "execution_count": 108,
      "outputs": []
    },
    {
      "cell_type": "markdown",
      "metadata": {
        "id": "xKhPlYE_0YOL"
      },
      "source": [
        "**Calculating the Profit for the following 3 scenarios:**\r\n",
        "\r\n",
        "1 - If we are able to Buy at Support+delta and Sell at Resistance-delta the same day. Successful Trade.\r\n",
        "\r\n",
        "2 - If we are able to Buy at Support+delta but not able to sell it since the Resistance-delta price never came.\r\n",
        "\r\n",
        "TOTAL PROFIT"
      ]
    },
    {
      "cell_type": "code",
      "metadata": {
        "colab": {
          "base_uri": "https://localhost:8080/"
        },
        "id": "lBw6IfUuD-7W",
        "outputId": "d048ab2f-e15e-4529-d9a9-3f5e6409195c"
      },
      "source": [
        "sbi[sbi['got_it']==2]['Profit'].sum()"
      ],
      "execution_count": 109,
      "outputs": [
        {
          "output_type": "execute_result",
          "data": {
            "text/plain": [
              "-45.949999999999875"
            ]
          },
          "metadata": {
            "tags": []
          },
          "execution_count": 109
        }
      ]
    },
    {
      "cell_type": "code",
      "metadata": {
        "colab": {
          "base_uri": "https://localhost:8080/"
        },
        "id": "wgW8M1Y1nIjv",
        "outputId": "47209b6c-d839-419c-f982-6eafe2f98067"
      },
      "source": [
        "sbi[sbi['got_it']==1]['Profit'].sum()"
      ],
      "execution_count": 110,
      "outputs": [
        {
          "output_type": "execute_result",
          "data": {
            "text/plain": [
              "62.150000000000546"
            ]
          },
          "metadata": {
            "tags": []
          },
          "execution_count": 110
        }
      ]
    },
    {
      "cell_type": "code",
      "metadata": {
        "colab": {
          "base_uri": "https://localhost:8080/"
        },
        "id": "7ABBvbmJ0XHn",
        "outputId": "5e1819e8-cfa4-4af1-d98e-5d5fa912cca3"
      },
      "source": [
        "sbi['Profit'].sum()"
      ],
      "execution_count": 111,
      "outputs": [
        {
          "output_type": "execute_result",
          "data": {
            "text/plain": [
              "16.20000000000067"
            ]
          },
          "metadata": {
            "tags": []
          },
          "execution_count": 111
        }
      ]
    },
    {
      "cell_type": "markdown",
      "metadata": {
        "id": "vKHJD5iF02Oh"
      },
      "source": [
        "If we had executed every trade worth 50,000 Rs, How much we would have made?"
      ]
    },
    {
      "cell_type": "code",
      "metadata": {
        "colab": {
          "base_uri": "https://localhost:8080/"
        },
        "id": "fPtMdvpED23X",
        "outputId": "f7226233-2181-4d86-df5e-d2a99f5c56bf"
      },
      "source": [
        "sbi['Profit'].sum() * no_of_shares"
      ],
      "execution_count": 112,
      "outputs": [
        {
          "output_type": "execute_result",
          "data": {
            "text/plain": [
              "2098.4455958550093"
            ]
          },
          "metadata": {
            "tags": []
          },
          "execution_count": 112
        }
      ]
    },
    {
      "cell_type": "markdown",
      "metadata": {
        "id": "VPSbH3en1GHZ"
      },
      "source": [
        "Calculating the **Percentage Return**\r\n",
        "\r\n",
        "Return = Profit/ Average Price * 100"
      ]
    },
    {
      "cell_type": "code",
      "metadata": {
        "colab": {
          "base_uri": "https://localhost:8080/"
        },
        "id": "b3ldyCnrrNz9",
        "outputId": "3d44c4a2-64fb-40df-d7e5-1cbbda015d00"
      },
      "source": [
        "sbi['Open'].mean()"
      ],
      "execution_count": 113,
      "outputs": [
        {
          "output_type": "execute_result",
          "data": {
            "text/plain": [
              "347.5357142857142"
            ]
          },
          "metadata": {
            "tags": []
          },
          "execution_count": 113
        }
      ]
    },
    {
      "cell_type": "code",
      "metadata": {
        "colab": {
          "base_uri": "https://localhost:8080/"
        },
        "id": "6bgg4Sy3cX9_",
        "outputId": "712f60d9-b194-4a6b-fcd9-2da3c4c7bd3d"
      },
      "source": [
        "x=sbi['Profit'].sum()/sbi['Open'].mean() *100\r\n",
        "print(\"The profit percentage you can get is {rate}\".format(rate=x))"
      ],
      "execution_count": 114,
      "outputs": [
        {
          "output_type": "stream",
          "text": [
            "The profit percentage you can get is 4.661391429452459\n"
          ],
          "name": "stdout"
        }
      ]
    },
    {
      "cell_type": "markdown",
      "metadata": {
        "id": "7q6WHul61YDV"
      },
      "source": [
        "**Plotting Some Charts**"
      ]
    },
    {
      "cell_type": "code",
      "metadata": {
        "colab": {
          "base_uri": "https://localhost:8080/",
          "height": 377
        },
        "id": "ORIZqcUsx7a0",
        "outputId": "74c65ab5-d745-40b4-a73c-d65deb41dd91"
      },
      "source": [
        "sbi[['Open','High','Low','Close','PP','S1','R1','Buy','Sell','got_it','Profit']].tail(10)"
      ],
      "execution_count": 115,
      "outputs": [
        {
          "output_type": "execute_result",
          "data": {
            "text/html": [
              "<div>\n",
              "<style scoped>\n",
              "    .dataframe tbody tr th:only-of-type {\n",
              "        vertical-align: middle;\n",
              "    }\n",
              "\n",
              "    .dataframe tbody tr th {\n",
              "        vertical-align: top;\n",
              "    }\n",
              "\n",
              "    .dataframe thead th {\n",
              "        text-align: right;\n",
              "    }\n",
              "</style>\n",
              "<table border=\"1\" class=\"dataframe\">\n",
              "  <thead>\n",
              "    <tr style=\"text-align: right;\">\n",
              "      <th></th>\n",
              "      <th>Open</th>\n",
              "      <th>High</th>\n",
              "      <th>Low</th>\n",
              "      <th>Close</th>\n",
              "      <th>PP</th>\n",
              "      <th>S1</th>\n",
              "      <th>R1</th>\n",
              "      <th>Buy</th>\n",
              "      <th>Sell</th>\n",
              "      <th>got_it</th>\n",
              "      <th>Profit</th>\n",
              "    </tr>\n",
              "    <tr>\n",
              "      <th>Date</th>\n",
              "      <th></th>\n",
              "      <th></th>\n",
              "      <th></th>\n",
              "      <th></th>\n",
              "      <th></th>\n",
              "      <th></th>\n",
              "      <th></th>\n",
              "      <th></th>\n",
              "      <th></th>\n",
              "      <th></th>\n",
              "      <th></th>\n",
              "    </tr>\n",
              "  </thead>\n",
              "  <tbody>\n",
              "    <tr>\n",
              "      <th>2021-02-26</th>\n",
              "      <td>400.400</td>\n",
              "      <td>401.050</td>\n",
              "      <td>387.000</td>\n",
              "      <td>390.200</td>\n",
              "      <td>392.750</td>\n",
              "      <td>384.450</td>\n",
              "      <td>398.500</td>\n",
              "      <td>405.542</td>\n",
              "      <td>411.292</td>\n",
              "      <td>2</td>\n",
              "      <td>-15.342</td>\n",
              "    </tr>\n",
              "    <tr>\n",
              "      <th>2021-03-01</th>\n",
              "      <td>395.800</td>\n",
              "      <td>397.700</td>\n",
              "      <td>391.000</td>\n",
              "      <td>395.000</td>\n",
              "      <td>394.567</td>\n",
              "      <td>391.433</td>\n",
              "      <td>398.133</td>\n",
              "      <td>385.725</td>\n",
              "      <td>397.225</td>\n",
              "      <td>0</td>\n",
              "      <td>0.000</td>\n",
              "    </tr>\n",
              "    <tr>\n",
              "      <th>2021-03-02</th>\n",
              "      <td>395.700</td>\n",
              "      <td>399.500</td>\n",
              "      <td>390.600</td>\n",
              "      <td>393.950</td>\n",
              "      <td>394.683</td>\n",
              "      <td>389.867</td>\n",
              "      <td>398.767</td>\n",
              "      <td>392.708</td>\n",
              "      <td>396.858</td>\n",
              "      <td>1</td>\n",
              "      <td>4.150</td>\n",
              "    </tr>\n",
              "    <tr>\n",
              "      <th>2021-03-03</th>\n",
              "      <td>396.700</td>\n",
              "      <td>408.900</td>\n",
              "      <td>395.600</td>\n",
              "      <td>405.050</td>\n",
              "      <td>403.183</td>\n",
              "      <td>397.467</td>\n",
              "      <td>410.767</td>\n",
              "      <td>391.142</td>\n",
              "      <td>397.492</td>\n",
              "      <td>0</td>\n",
              "      <td>0.000</td>\n",
              "    </tr>\n",
              "    <tr>\n",
              "      <th>2021-03-04</th>\n",
              "      <td>399.800</td>\n",
              "      <td>403.450</td>\n",
              "      <td>394.600</td>\n",
              "      <td>395.800</td>\n",
              "      <td>397.950</td>\n",
              "      <td>392.450</td>\n",
              "      <td>401.300</td>\n",
              "      <td>398.742</td>\n",
              "      <td>409.492</td>\n",
              "      <td>2</td>\n",
              "      <td>-2.942</td>\n",
              "    </tr>\n",
              "    <tr>\n",
              "      <th>2021-03-05</th>\n",
              "      <td>395.000</td>\n",
              "      <td>395.000</td>\n",
              "      <td>378.200</td>\n",
              "      <td>383.800</td>\n",
              "      <td>385.667</td>\n",
              "      <td>376.333</td>\n",
              "      <td>393.133</td>\n",
              "      <td>393.725</td>\n",
              "      <td>400.025</td>\n",
              "      <td>2</td>\n",
              "      <td>-9.925</td>\n",
              "    </tr>\n",
              "    <tr>\n",
              "      <th>2021-03-08</th>\n",
              "      <td>388.600</td>\n",
              "      <td>393.400</td>\n",
              "      <td>386.400</td>\n",
              "      <td>389.550</td>\n",
              "      <td>389.783</td>\n",
              "      <td>386.167</td>\n",
              "      <td>393.167</td>\n",
              "      <td>377.608</td>\n",
              "      <td>391.858</td>\n",
              "      <td>0</td>\n",
              "      <td>0.000</td>\n",
              "    </tr>\n",
              "    <tr>\n",
              "      <th>2021-03-09</th>\n",
              "      <td>393.050</td>\n",
              "      <td>394.800</td>\n",
              "      <td>382.350</td>\n",
              "      <td>387.500</td>\n",
              "      <td>388.217</td>\n",
              "      <td>381.633</td>\n",
              "      <td>394.083</td>\n",
              "      <td>387.442</td>\n",
              "      <td>391.892</td>\n",
              "      <td>1</td>\n",
              "      <td>4.450</td>\n",
              "    </tr>\n",
              "    <tr>\n",
              "      <th>2021-03-10</th>\n",
              "      <td>391.400</td>\n",
              "      <td>392.800</td>\n",
              "      <td>385.700</td>\n",
              "      <td>387.500</td>\n",
              "      <td>388.667</td>\n",
              "      <td>384.533</td>\n",
              "      <td>391.633</td>\n",
              "      <td>382.908</td>\n",
              "      <td>392.808</td>\n",
              "      <td>0</td>\n",
              "      <td>0.000</td>\n",
              "    </tr>\n",
              "    <tr>\n",
              "      <th>2021-03-12</th>\n",
              "      <td>391.050</td>\n",
              "      <td>393.150</td>\n",
              "      <td>377.500</td>\n",
              "      <td>381.200</td>\n",
              "      <td>383.950</td>\n",
              "      <td>374.750</td>\n",
              "      <td>390.400</td>\n",
              "      <td>385.808</td>\n",
              "      <td>390.358</td>\n",
              "      <td>1</td>\n",
              "      <td>4.550</td>\n",
              "    </tr>\n",
              "  </tbody>\n",
              "</table>\n",
              "</div>"
            ],
            "text/plain": [
              "              Open    High     Low   Close  ...     Buy    Sell  got_it  Profit\n",
              "Date                                        ...                                \n",
              "2021-02-26 400.400 401.050 387.000 390.200  ... 405.542 411.292       2 -15.342\n",
              "2021-03-01 395.800 397.700 391.000 395.000  ... 385.725 397.225       0   0.000\n",
              "2021-03-02 395.700 399.500 390.600 393.950  ... 392.708 396.858       1   4.150\n",
              "2021-03-03 396.700 408.900 395.600 405.050  ... 391.142 397.492       0   0.000\n",
              "2021-03-04 399.800 403.450 394.600 395.800  ... 398.742 409.492       2  -2.942\n",
              "2021-03-05 395.000 395.000 378.200 383.800  ... 393.725 400.025       2  -9.925\n",
              "2021-03-08 388.600 393.400 386.400 389.550  ... 377.608 391.858       0   0.000\n",
              "2021-03-09 393.050 394.800 382.350 387.500  ... 387.442 391.892       1   4.450\n",
              "2021-03-10 391.400 392.800 385.700 387.500  ... 382.908 392.808       0   0.000\n",
              "2021-03-12 391.050 393.150 377.500 381.200  ... 385.808 390.358       1   4.550\n",
              "\n",
              "[10 rows x 11 columns]"
            ]
          },
          "metadata": {
            "tags": []
          },
          "execution_count": 115
        }
      ]
    },
    {
      "cell_type": "code",
      "metadata": {
        "id": "lyxtc_TQJZG1"
      },
      "source": [
        "sbi[['Open','High','Low','Close','PP','S1','R1','Buy','Sell','got_it','Profit']].to_excel('Stock.xlsx',sheet_name='xx')"
      ],
      "execution_count": 116,
      "outputs": []
    },
    {
      "cell_type": "code",
      "metadata": {
        "colab": {
          "base_uri": "https://localhost:8080/",
          "height": 600
        },
        "id": "IHGQRCdKM919",
        "outputId": "cbfc676c-22ad-4ef3-94bc-4fae5f23caff"
      },
      "source": [
        "sbi[['High','Low','Buy','Sell']].tail(30).plot(figsize=(20,10))"
      ],
      "execution_count": 117,
      "outputs": [
        {
          "output_type": "execute_result",
          "data": {
            "text/plain": [
              "<matplotlib.axes._subplots.AxesSubplot at 0x7f406de35f90>"
            ]
          },
          "metadata": {
            "tags": []
          },
          "execution_count": 117
        },
        {
          "output_type": "display_data",
          "data": {
            "image/png": "[encoded data removed]",
            "text/plain": [
              "<Figure size 1440x720 with 1 Axes>"
            ]
          },
          "metadata": {
            "tags": []
          }
        }
      ]
    },
    {
      "cell_type": "code",
      "metadata": {
        "colab": {
          "base_uri": "https://localhost:8080/",
          "height": 403
        },
        "id": "n8wMEuVlmHpR",
        "outputId": "31317734-de3a-42e3-a2ad-73299c665121"
      },
      "source": [
        "sbi['Open'].plot(figsize=(18,6))"
      ],
      "execution_count": 118,
      "outputs": [
        {
          "output_type": "execute_result",
          "data": {
            "text/plain": [
              "<matplotlib.axes._subplots.AxesSubplot at 0x7f406dd56710>"
            ]
          },
          "metadata": {
            "tags": []
          },
          "execution_count": 118
        },
        {
          "output_type": "display_data",
          "data": {
            "image/png": "[encoded data removed]",
            "text/plain": [
              "<Figure size 1296x432 with 1 Axes>"
            ]
          },
          "metadata": {
            "tags": []
          }
        }
      ]
    }
  ]
}