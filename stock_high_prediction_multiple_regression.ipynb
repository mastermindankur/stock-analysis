{
  "nbformat": 4,
  "nbformat_minor": 0,
  "metadata": {
    "colab": {
      "name": "stock-high-prediction-multiple-regression.ipynb",
      "provenance": [],
      "authorship_tag": "ABX9TyNy2L96D+/7QGmDCTK3Kxjk",
      "include_colab_link": true
    },
    "kernelspec": {
      "name": "python3",
      "display_name": "Python 3"
    },
    "language_info": {
      "name": "python"
    }
  },
  "cells": [
    {
      "cell_type": "markdown",
      "metadata": {
        "id": "view-in-github",
        "colab_type": "text"
      },
      "source": [
        "<a href=\"https://colab.research.google.com/github/mastermindankur/stock-analysis/blob/main/stock_high_prediction_multiple_regression.ipynb\" target=\"_parent\"><img src=\"https://colab.research.google.com/assets/colab-badge.svg\" alt=\"Open In Colab\"/></a>"
      ]
    },
    {
      "cell_type": "code",
      "execution_count": 43,
      "metadata": {
        "colab": {
          "base_uri": "https://localhost:8080/"
        },
        "id": "JmlB1tBEMOZe",
        "outputId": "3cdaba47-51a2-4569-956e-e670d20036c4"
      },
      "outputs": [
        {
          "output_type": "stream",
          "name": "stdout",
          "text": [
            "Requirement already satisfied: bsedata in /usr/local/lib/python3.7/dist-packages (0.5.0)\n",
            "Requirement already satisfied: lxml in /usr/local/lib/python3.7/dist-packages (from bsedata) (4.2.6)\n",
            "Requirement already satisfied: requests in /usr/local/lib/python3.7/dist-packages (from bsedata) (2.23.0)\n",
            "Requirement already satisfied: beautifulsoup4 in /usr/local/lib/python3.7/dist-packages (from bsedata) (4.6.3)\n",
            "Requirement already satisfied: urllib3!=1.25.0,!=1.25.1,<1.26,>=1.21.1 in /usr/local/lib/python3.7/dist-packages (from requests->bsedata) (1.24.3)\n",
            "Requirement already satisfied: certifi>=2017.4.17 in /usr/local/lib/python3.7/dist-packages (from requests->bsedata) (2021.10.8)\n",
            "Requirement already satisfied: chardet<4,>=3.0.2 in /usr/local/lib/python3.7/dist-packages (from requests->bsedata) (3.0.4)\n",
            "Requirement already satisfied: idna<3,>=2.5 in /usr/local/lib/python3.7/dist-packages (from requests->bsedata) (2.10)\n",
            "Requirement already satisfied: quandl in /usr/local/lib/python3.7/dist-packages (3.7.0)\n",
            "Requirement already satisfied: inflection>=0.3.1 in /usr/local/lib/python3.7/dist-packages (from quandl) (0.5.1)\n",
            "Requirement already satisfied: python-dateutil in /usr/local/lib/python3.7/dist-packages (from quandl) (2.8.2)\n",
            "Requirement already satisfied: requests>=2.7.0 in /usr/local/lib/python3.7/dist-packages (from quandl) (2.23.0)\n",
            "Requirement already satisfied: numpy>=1.8 in /usr/local/lib/python3.7/dist-packages (from quandl) (1.19.5)\n",
            "Requirement already satisfied: more-itertools in /usr/local/lib/python3.7/dist-packages (from quandl) (8.12.0)\n",
            "Requirement already satisfied: pandas>=0.14 in /usr/local/lib/python3.7/dist-packages (from quandl) (1.1.5)\n",
            "Requirement already satisfied: six in /usr/local/lib/python3.7/dist-packages (from quandl) (1.15.0)\n",
            "Requirement already satisfied: pytz>=2017.2 in /usr/local/lib/python3.7/dist-packages (from pandas>=0.14->quandl) (2018.9)\n",
            "Requirement already satisfied: urllib3!=1.25.0,!=1.25.1,<1.26,>=1.21.1 in /usr/local/lib/python3.7/dist-packages (from requests>=2.7.0->quandl) (1.24.3)\n",
            "Requirement already satisfied: idna<3,>=2.5 in /usr/local/lib/python3.7/dist-packages (from requests>=2.7.0->quandl) (2.10)\n",
            "Requirement already satisfied: chardet<4,>=3.0.2 in /usr/local/lib/python3.7/dist-packages (from requests>=2.7.0->quandl) (3.0.4)\n",
            "Requirement already satisfied: certifi>=2017.4.17 in /usr/local/lib/python3.7/dist-packages (from requests>=2.7.0->quandl) (2021.10.8)\n"
          ]
        }
      ],
      "source": [
        "!pip install bsedata\n",
        "!pip install quandl"
      ]
    },
    {
      "cell_type": "code",
      "source": [
        "import matplotlib.pyplot as plt\n",
        "import numpy as np\n",
        "import pandas as pd\n",
        "import matplotlib.dates as dates\n",
        "import quandl\n",
        "%matplotlib inline"
      ],
      "metadata": {
        "id": "UIDlsw_oM_ZI"
      },
      "execution_count": 44,
      "outputs": []
    },
    {
      "cell_type": "code",
      "source": [
        "# to be ale to view numbers in human readable format 2.058691e+08\n",
        "pd.set_option('display.float_format', lambda x: '%.3f' % x)\n",
        "quandl.ApiConfig.api_key = 'izbxGLp_K_zzzUJdN9sp'\n",
        "sbi =quandl.get('BSE/BOM500112', start_date='2021-01-01', end_date='2021-12-01')\n",
        "sensex =quandl.get('BSE/SENSEX', start_date='2021-01-01', end_date='2021-12-01')"
      ],
      "metadata": {
        "id": "sPf_hChvNFJ6"
      },
      "execution_count": 84,
      "outputs": []
    },
    {
      "cell_type": "code",
      "source": [
        "sbi=sbi.rename(columns={'Open':'sbi_open'})\n",
        "sbi=sbi.rename(columns={'High':'sbi_high'})\n",
        "sensex=sensex.rename(columns={'Open':'sensex_open'})\n",
        "df=pd.concat([sbi,sensex],axis=1)"
      ],
      "metadata": {
        "id": "blExJVrUVu77"
      },
      "execution_count": 97,
      "outputs": []
    },
    {
      "cell_type": "code",
      "source": [
        "df"
      ],
      "metadata": {
        "colab": {
          "base_uri": "https://localhost:8080/",
          "height": 762
        },
        "id": "nrRszlWPeEP0",
        "outputId": "afa7a000-ab97-4145-8180-991946a48f21"
      },
      "execution_count": 98,
      "outputs": [
        {
          "output_type": "execute_result",
          "data": {
            "text/html": [
              "\n",
              "  <div id=\"df-079ffd03-92d5-4960-b1b2-365872aa827e\">\n",
              "    <div class=\"colab-df-container\">\n",
              "      <div>\n",
              "<style scoped>\n",
              "    .dataframe tbody tr th:only-of-type {\n",
              "        vertical-align: middle;\n",
              "    }\n",
              "\n",
              "    .dataframe tbody tr th {\n",
              "        vertical-align: top;\n",
              "    }\n",
              "\n",
              "    .dataframe thead th {\n",
              "        text-align: right;\n",
              "    }\n",
              "</style>\n",
              "<table border=\"1\" class=\"dataframe\">\n",
              "  <thead>\n",
              "    <tr style=\"text-align: right;\">\n",
              "      <th></th>\n",
              "      <th>sbi_open</th>\n",
              "      <th>sbi_high</th>\n",
              "      <th>Low</th>\n",
              "      <th>Close</th>\n",
              "      <th>WAP</th>\n",
              "      <th>No. of Shares</th>\n",
              "      <th>No. of Trades</th>\n",
              "      <th>Total Turnover</th>\n",
              "      <th>Deliverable Quantity</th>\n",
              "      <th>% Deli. Qty to Traded Qty</th>\n",
              "      <th>Spread H-L</th>\n",
              "      <th>Spread C-O</th>\n",
              "      <th>sensex_open</th>\n",
              "      <th>High</th>\n",
              "      <th>Low</th>\n",
              "      <th>Close</th>\n",
              "    </tr>\n",
              "    <tr>\n",
              "      <th>Date</th>\n",
              "      <th></th>\n",
              "      <th></th>\n",
              "      <th></th>\n",
              "      <th></th>\n",
              "      <th></th>\n",
              "      <th></th>\n",
              "      <th></th>\n",
              "      <th></th>\n",
              "      <th></th>\n",
              "      <th></th>\n",
              "      <th></th>\n",
              "      <th></th>\n",
              "      <th></th>\n",
              "      <th></th>\n",
              "      <th></th>\n",
              "      <th></th>\n",
              "    </tr>\n",
              "  </thead>\n",
              "  <tbody>\n",
              "    <tr>\n",
              "      <th>2021-01-01</th>\n",
              "      <td>275.000</td>\n",
              "      <td>280.000</td>\n",
              "      <td>274.600</td>\n",
              "      <td>279.350</td>\n",
              "      <td>278.210</td>\n",
              "      <td>1108133.000</td>\n",
              "      <td>7467.000</td>\n",
              "      <td>308298689.000</td>\n",
              "      <td>190252.000</td>\n",
              "      <td>17.170</td>\n",
              "      <td>5.400</td>\n",
              "      <td>4.350</td>\n",
              "      <td>47785.280</td>\n",
              "      <td>47980.360</td>\n",
              "      <td>47771.150</td>\n",
              "      <td>47868.980</td>\n",
              "    </tr>\n",
              "    <tr>\n",
              "      <th>2021-01-04</th>\n",
              "      <td>281.200</td>\n",
              "      <td>283.850</td>\n",
              "      <td>277.950</td>\n",
              "      <td>281.050</td>\n",
              "      <td>281.370</td>\n",
              "      <td>1372085.000</td>\n",
              "      <td>9153.000</td>\n",
              "      <td>386063848.000</td>\n",
              "      <td>185454.000</td>\n",
              "      <td>13.520</td>\n",
              "      <td>5.900</td>\n",
              "      <td>-0.150</td>\n",
              "      <td>48109.170</td>\n",
              "      <td>48220.470</td>\n",
              "      <td>47594.470</td>\n",
              "      <td>48176.800</td>\n",
              "    </tr>\n",
              "    <tr>\n",
              "      <th>2021-01-05</th>\n",
              "      <td>278.700</td>\n",
              "      <td>282.400</td>\n",
              "      <td>277.100</td>\n",
              "      <td>281.750</td>\n",
              "      <td>279.650</td>\n",
              "      <td>1142427.000</td>\n",
              "      <td>7451.000</td>\n",
              "      <td>319484186.000</td>\n",
              "      <td>162405.000</td>\n",
              "      <td>14.220</td>\n",
              "      <td>5.300</td>\n",
              "      <td>3.050</td>\n",
              "      <td>48037.630</td>\n",
              "      <td>48486.240</td>\n",
              "      <td>47903.380</td>\n",
              "      <td>48437.780</td>\n",
              "    </tr>\n",
              "    <tr>\n",
              "      <th>2021-01-06</th>\n",
              "      <td>283.450</td>\n",
              "      <td>289.050</td>\n",
              "      <td>281.400</td>\n",
              "      <td>284.900</td>\n",
              "      <td>285.720</td>\n",
              "      <td>1726384.000</td>\n",
              "      <td>11898.000</td>\n",
              "      <td>493263813.000</td>\n",
              "      <td>251135.000</td>\n",
              "      <td>14.550</td>\n",
              "      <td>7.650</td>\n",
              "      <td>1.450</td>\n",
              "      <td>48616.660</td>\n",
              "      <td>48616.660</td>\n",
              "      <td>47864.140</td>\n",
              "      <td>48174.060</td>\n",
              "    </tr>\n",
              "    <tr>\n",
              "      <th>2021-01-07</th>\n",
              "      <td>289.300</td>\n",
              "      <td>291.800</td>\n",
              "      <td>287.000</td>\n",
              "      <td>287.750</td>\n",
              "      <td>289.040</td>\n",
              "      <td>2099771.000</td>\n",
              "      <td>10666.000</td>\n",
              "      <td>606911121.000</td>\n",
              "      <td>311752.000</td>\n",
              "      <td>14.850</td>\n",
              "      <td>4.800</td>\n",
              "      <td>-1.550</td>\n",
              "      <td>48524.360</td>\n",
              "      <td>48558.340</td>\n",
              "      <td>48037.870</td>\n",
              "      <td>48093.320</td>\n",
              "    </tr>\n",
              "    <tr>\n",
              "      <th>...</th>\n",
              "      <td>...</td>\n",
              "      <td>...</td>\n",
              "      <td>...</td>\n",
              "      <td>...</td>\n",
              "      <td>...</td>\n",
              "      <td>...</td>\n",
              "      <td>...</td>\n",
              "      <td>...</td>\n",
              "      <td>...</td>\n",
              "      <td>...</td>\n",
              "      <td>...</td>\n",
              "      <td>...</td>\n",
              "      <td>...</td>\n",
              "      <td>...</td>\n",
              "      <td>...</td>\n",
              "      <td>...</td>\n",
              "    </tr>\n",
              "    <tr>\n",
              "      <th>2021-11-25</th>\n",
              "      <td>488.600</td>\n",
              "      <td>495.450</td>\n",
              "      <td>486.500</td>\n",
              "      <td>490.550</td>\n",
              "      <td>491.810</td>\n",
              "      <td>620391.000</td>\n",
              "      <td>16317.000</td>\n",
              "      <td>305117591.000</td>\n",
              "      <td>151881.000</td>\n",
              "      <td>24.480</td>\n",
              "      <td>8.950</td>\n",
              "      <td>1.950</td>\n",
              "      <td>58363.930</td>\n",
              "      <td>58901.580</td>\n",
              "      <td>58143.860</td>\n",
              "      <td>58795.090</td>\n",
              "    </tr>\n",
              "    <tr>\n",
              "      <th>2021-11-26</th>\n",
              "      <td>486.750</td>\n",
              "      <td>487.600</td>\n",
              "      <td>467.250</td>\n",
              "      <td>470.500</td>\n",
              "      <td>474.840</td>\n",
              "      <td>1058798.000</td>\n",
              "      <td>25972.000</td>\n",
              "      <td>502758140.000</td>\n",
              "      <td>387485.000</td>\n",
              "      <td>36.600</td>\n",
              "      <td>20.350</td>\n",
              "      <td>-16.250</td>\n",
              "      <td>58254.790</td>\n",
              "      <td>58254.790</td>\n",
              "      <td>56993.890</td>\n",
              "      <td>57107.150</td>\n",
              "    </tr>\n",
              "    <tr>\n",
              "      <th>2021-11-29</th>\n",
              "      <td>469.800</td>\n",
              "      <td>477.000</td>\n",
              "      <td>454.400</td>\n",
              "      <td>464.650</td>\n",
              "      <td>467.700</td>\n",
              "      <td>1550087.000</td>\n",
              "      <td>23793.000</td>\n",
              "      <td>724973861.000</td>\n",
              "      <td>180306.000</td>\n",
              "      <td>11.630</td>\n",
              "      <td>22.600</td>\n",
              "      <td>-5.150</td>\n",
              "      <td>57028.040</td>\n",
              "      <td>57626.510</td>\n",
              "      <td>56382.930</td>\n",
              "      <td>57260.580</td>\n",
              "    </tr>\n",
              "    <tr>\n",
              "      <th>2021-11-30</th>\n",
              "      <td>468.000</td>\n",
              "      <td>477.250</td>\n",
              "      <td>458.150</td>\n",
              "      <td>460.600</td>\n",
              "      <td>467.570</td>\n",
              "      <td>1297843.000</td>\n",
              "      <td>15351.000</td>\n",
              "      <td>606827156.000</td>\n",
              "      <td>553061.000</td>\n",
              "      <td>42.610</td>\n",
              "      <td>19.100</td>\n",
              "      <td>-7.400</td>\n",
              "      <td>57272.080</td>\n",
              "      <td>58183.770</td>\n",
              "      <td>56867.510</td>\n",
              "      <td>57064.870</td>\n",
              "    </tr>\n",
              "    <tr>\n",
              "      <th>2021-12-01</th>\n",
              "      <td>464.400</td>\n",
              "      <td>477.200</td>\n",
              "      <td>463.900</td>\n",
              "      <td>475.300</td>\n",
              "      <td>470.300</td>\n",
              "      <td>1119158.000</td>\n",
              "      <td>21266.000</td>\n",
              "      <td>526335383.000</td>\n",
              "      <td>329079.000</td>\n",
              "      <td>29.400</td>\n",
              "      <td>13.300</td>\n",
              "      <td>10.900</td>\n",
              "      <td>57365.850</td>\n",
              "      <td>57846.450</td>\n",
              "      <td>57346.780</td>\n",
              "      <td>57684.790</td>\n",
              "    </tr>\n",
              "  </tbody>\n",
              "</table>\n",
              "<p>226 rows × 16 columns</p>\n",
              "</div>\n",
              "      <button class=\"colab-df-convert\" onclick=\"convertToInteractive('df-079ffd03-92d5-4960-b1b2-365872aa827e')\"\n",
              "              title=\"Convert this dataframe to an interactive table.\"\n",
              "              style=\"display:none;\">\n",
              "        \n",
              "  <svg xmlns=\"http://www.w3.org/2000/svg\" height=\"24px\"viewBox=\"0 0 24 24\"\n",
              "       width=\"24px\">\n",
              "    <path d=\"M0 0h24v24H0V0z\" fill=\"none\"/>\n",
              "    <path d=\"M18.56 5.44l.94 2.06.94-2.06 2.06-.94-2.06-.94-.94-2.06-.94 2.06-2.06.94zm-11 1L8.5 8.5l.94-2.06 2.06-.94-2.06-.94L8.5 2.5l-.94 2.06-2.06.94zm10 10l.94 2.06.94-2.06 2.06-.94-2.06-.94-.94-2.06-.94 2.06-2.06.94z\"/><path d=\"M17.41 7.96l-1.37-1.37c-.4-.4-.92-.59-1.43-.59-.52 0-1.04.2-1.43.59L10.3 9.45l-7.72 7.72c-.78.78-.78 2.05 0 2.83L4 21.41c.39.39.9.59 1.41.59.51 0 1.02-.2 1.41-.59l7.78-7.78 2.81-2.81c.8-.78.8-2.07 0-2.86zM5.41 20L4 18.59l7.72-7.72 1.47 1.35L5.41 20z\"/>\n",
              "  </svg>\n",
              "      </button>\n",
              "      \n",
              "  <style>\n",
              "    .colab-df-container {\n",
              "      display:flex;\n",
              "      flex-wrap:wrap;\n",
              "      gap: 12px;\n",
              "    }\n",
              "\n",
              "    .colab-df-convert {\n",
              "      background-color: #E8F0FE;\n",
              "      border: none;\n",
              "      border-radius: 50%;\n",
              "      cursor: pointer;\n",
              "      display: none;\n",
              "      fill: #1967D2;\n",
              "      height: 32px;\n",
              "      padding: 0 0 0 0;\n",
              "      width: 32px;\n",
              "    }\n",
              "\n",
              "    .colab-df-convert:hover {\n",
              "      background-color: #E2EBFA;\n",
              "      box-shadow: 0px 1px 2px rgba(60, 64, 67, 0.3), 0px 1px 3px 1px rgba(60, 64, 67, 0.15);\n",
              "      fill: #174EA6;\n",
              "    }\n",
              "\n",
              "    [theme=dark] .colab-df-convert {\n",
              "      background-color: #3B4455;\n",
              "      fill: #D2E3FC;\n",
              "    }\n",
              "\n",
              "    [theme=dark] .colab-df-convert:hover {\n",
              "      background-color: #434B5C;\n",
              "      box-shadow: 0px 1px 3px 1px rgba(0, 0, 0, 0.15);\n",
              "      filter: drop-shadow(0px 1px 2px rgba(0, 0, 0, 0.3));\n",
              "      fill: #FFFFFF;\n",
              "    }\n",
              "  </style>\n",
              "\n",
              "      <script>\n",
              "        const buttonEl =\n",
              "          document.querySelector('#df-079ffd03-92d5-4960-b1b2-365872aa827e button.colab-df-convert');\n",
              "        buttonEl.style.display =\n",
              "          google.colab.kernel.accessAllowed ? 'block' : 'none';\n",
              "\n",
              "        async function convertToInteractive(key) {\n",
              "          const element = document.querySelector('#df-079ffd03-92d5-4960-b1b2-365872aa827e');\n",
              "          const dataTable =\n",
              "            await google.colab.kernel.invokeFunction('convertToInteractive',\n",
              "                                                     [key], {});\n",
              "          if (!dataTable) return;\n",
              "\n",
              "          const docLinkHtml = 'Like what you see? Visit the ' +\n",
              "            '<a target=\"_blank\" href=https://colab.research.google.com/notebooks/data_table.ipynb>data table notebook</a>'\n",
              "            + ' to learn more about interactive tables.';\n",
              "          element.innerHTML = '';\n",
              "          dataTable['output_type'] = 'display_data';\n",
              "          await google.colab.output.renderOutput(dataTable, element);\n",
              "          const docLink = document.createElement('div');\n",
              "          docLink.innerHTML = docLinkHtml;\n",
              "          element.appendChild(docLink);\n",
              "        }\n",
              "      </script>\n",
              "    </div>\n",
              "  </div>\n",
              "  "
            ],
            "text/plain": [
              "            sbi_open  sbi_high     Low  ...      High       Low     Close\n",
              "Date                                    ...                              \n",
              "2021-01-01   275.000   280.000 274.600  ... 47980.360 47771.150 47868.980\n",
              "2021-01-04   281.200   283.850 277.950  ... 48220.470 47594.470 48176.800\n",
              "2021-01-05   278.700   282.400 277.100  ... 48486.240 47903.380 48437.780\n",
              "2021-01-06   283.450   289.050 281.400  ... 48616.660 47864.140 48174.060\n",
              "2021-01-07   289.300   291.800 287.000  ... 48558.340 48037.870 48093.320\n",
              "...              ...       ...     ...  ...       ...       ...       ...\n",
              "2021-11-25   488.600   495.450 486.500  ... 58901.580 58143.860 58795.090\n",
              "2021-11-26   486.750   487.600 467.250  ... 58254.790 56993.890 57107.150\n",
              "2021-11-29   469.800   477.000 454.400  ... 57626.510 56382.930 57260.580\n",
              "2021-11-30   468.000   477.250 458.150  ... 58183.770 56867.510 57064.870\n",
              "2021-12-01   464.400   477.200 463.900  ... 57846.450 57346.780 57684.790\n",
              "\n",
              "[226 rows x 16 columns]"
            ]
          },
          "metadata": {},
          "execution_count": 98
        }
      ]
    },
    {
      "cell_type": "code",
      "source": [
        "data=df[['sbi_open','sensex_open','sbi_high']]"
      ],
      "metadata": {
        "id": "KidsXT9Ted8v"
      },
      "execution_count": 105,
      "outputs": []
    },
    {
      "cell_type": "code",
      "source": [
        "X = data.iloc[:, :-1].values\n",
        "y = data.iloc[:, -1].values"
      ],
      "metadata": {
        "id": "W6jgFohkek8j"
      },
      "execution_count": 107,
      "outputs": []
    },
    {
      "cell_type": "code",
      "source": [
        "from sklearn.model_selection import train_test_split\n",
        "X_train, X_test, y_train, y_test = train_test_split(X, y, test_size = 0.2, random_state = 0)"
      ],
      "metadata": {
        "id": "UqLuPygvfwVt"
      },
      "execution_count": 111,
      "outputs": []
    },
    {
      "cell_type": "code",
      "source": [
        "from sklearn.linear_model import LinearRegression\n",
        "regressor = LinearRegression()\n",
        "regressor.fit(X_train, y_train)"
      ],
      "metadata": {
        "colab": {
          "base_uri": "https://localhost:8080/"
        },
        "id": "ZN81S35dfy4Z",
        "outputId": "752d1b1f-de93-4f7c-ab09-39d18ae064d5"
      },
      "execution_count": 112,
      "outputs": [
        {
          "output_type": "execute_result",
          "data": {
            "text/plain": [
              "LinearRegression()"
            ]
          },
          "metadata": {},
          "execution_count": 112
        }
      ]
    },
    {
      "cell_type": "code",
      "source": [
        "print(regressor.predict([[461.20,57751.21]]))"
      ],
      "metadata": {
        "colab": {
          "base_uri": "https://localhost:8080/"
        },
        "id": "ZLnx7sSLhNO-",
        "outputId": "3497e6fb-ea69-4ea7-8aac-816f7066fdc3"
      },
      "execution_count": 124,
      "outputs": [
        {
          "output_type": "stream",
          "name": "stdout",
          "text": [
            "[466.54784567]\n"
          ]
        }
      ]
    },
    {
      "cell_type": "code",
      "source": [
        "print(regressor.coef_)\n",
        "print(regressor.intercept_)"
      ],
      "metadata": {
        "colab": {
          "base_uri": "https://localhost:8080/"
        },
        "id": "CgktfIBqmr4R",
        "outputId": "72376559-b048-4dfa-c624-47c33edaec04"
      },
      "execution_count": 125,
      "outputs": [
        {
          "output_type": "stream",
          "name": "stdout",
          "text": [
            "[9.69948021e-01 3.61395147e-04]\n",
            "-1.6631888279375175\n"
          ]
        }
      ]
    },
    {
      "cell_type": "code",
      "source": [
        "from sklearn.metrics import mean_squared_error\n",
        "mean_squared_error(y_pred, y_test,squared=False)"
      ],
      "metadata": {
        "colab": {
          "base_uri": "https://localhost:8080/"
        },
        "id": "XiC92yVwpPsN",
        "outputId": "96ce5e4f-1dd7-408d-d6f2-8750fa0a9d9f"
      },
      "execution_count": 128,
      "outputs": [
        {
          "output_type": "execute_result",
          "data": {
            "text/plain": [
              "5.709258772326388"
            ]
          },
          "metadata": {},
          "execution_count": 128
        }
      ]
    },
    {
      "cell_type": "code",
      "source": [
        "y_pred = regressor.predict(X_test)"
      ],
      "metadata": {
        "id": "B2-1JSqjf026"
      },
      "execution_count": 113,
      "outputs": []
    }
  ]
}