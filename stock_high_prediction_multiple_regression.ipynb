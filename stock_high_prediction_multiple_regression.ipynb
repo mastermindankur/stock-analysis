{
  "nbformat": 4,
  "nbformat_minor": 0,
  "metadata": {
    "colab": {
      "name": "stock-high-prediction-multiple-regression.ipynb",
      "provenance": [],
      "authorship_tag": "ABX9TyOVMVHbBPgWsenOveMPjCZZ",
      "include_colab_link": true
    },
    "kernelspec": {
      "name": "python3",
      "display_name": "Python 3"
    },
    "language_info": {
      "name": "python"
    }
  },
  "cells": [
    {
      "cell_type": "markdown",
      "metadata": {
        "id": "view-in-github",
        "colab_type": "text"
      },
      "source": [
        "<a href=\"https://colab.research.google.com/github/mastermindankur/stock-analysis/blob/main/stock_high_prediction_multiple_regression.ipynb\" target=\"_parent\"><img src=\"https://colab.research.google.com/assets/colab-badge.svg\" alt=\"Open In Colab\"/></a>"
      ]
    },
    {
      "cell_type": "markdown",
      "source": [
        "http://www.ijesi.org/papers/Vol(7)i10/Version-2/D0710022933.pdf\n"
      ],
      "metadata": {
        "id": "4K4gMXUUqiPx"
      }
    },
    {
      "cell_type": "code",
      "execution_count": 205,
      "metadata": {
        "colab": {
          "base_uri": "https://localhost:8080/"
        },
        "id": "JmlB1tBEMOZe",
        "outputId": "71a8f21b-ec32-4194-975c-5da9039eb922"
      },
      "outputs": [
        {
          "output_type": "stream",
          "name": "stdout",
          "text": [
            "Requirement already satisfied: bsedata in /usr/local/lib/python3.7/dist-packages (0.5.0)\n",
            "Requirement already satisfied: beautifulsoup4 in /usr/local/lib/python3.7/dist-packages (from bsedata) (4.6.3)\n",
            "Requirement already satisfied: requests in /usr/local/lib/python3.7/dist-packages (from bsedata) (2.23.0)\n",
            "Requirement already satisfied: lxml in /usr/local/lib/python3.7/dist-packages (from bsedata) (4.2.6)\n",
            "Requirement already satisfied: chardet<4,>=3.0.2 in /usr/local/lib/python3.7/dist-packages (from requests->bsedata) (3.0.4)\n",
            "Requirement already satisfied: urllib3!=1.25.0,!=1.25.1,<1.26,>=1.21.1 in /usr/local/lib/python3.7/dist-packages (from requests->bsedata) (1.24.3)\n",
            "Requirement already satisfied: certifi>=2017.4.17 in /usr/local/lib/python3.7/dist-packages (from requests->bsedata) (2021.10.8)\n",
            "Requirement already satisfied: idna<3,>=2.5 in /usr/local/lib/python3.7/dist-packages (from requests->bsedata) (2.10)\n",
            "Requirement already satisfied: quandl in /usr/local/lib/python3.7/dist-packages (3.7.0)\n",
            "Requirement already satisfied: six in /usr/local/lib/python3.7/dist-packages (from quandl) (1.15.0)\n",
            "Requirement already satisfied: more-itertools in /usr/local/lib/python3.7/dist-packages (from quandl) (8.12.0)\n",
            "Requirement already satisfied: requests>=2.7.0 in /usr/local/lib/python3.7/dist-packages (from quandl) (2.23.0)\n",
            "Requirement already satisfied: numpy>=1.8 in /usr/local/lib/python3.7/dist-packages (from quandl) (1.19.5)\n",
            "Requirement already satisfied: inflection>=0.3.1 in /usr/local/lib/python3.7/dist-packages (from quandl) (0.5.1)\n",
            "Requirement already satisfied: pandas>=0.14 in /usr/local/lib/python3.7/dist-packages (from quandl) (1.1.5)\n",
            "Requirement already satisfied: python-dateutil in /usr/local/lib/python3.7/dist-packages (from quandl) (2.8.2)\n",
            "Requirement already satisfied: pytz>=2017.2 in /usr/local/lib/python3.7/dist-packages (from pandas>=0.14->quandl) (2018.9)\n",
            "Requirement already satisfied: urllib3!=1.25.0,!=1.25.1,<1.26,>=1.21.1 in /usr/local/lib/python3.7/dist-packages (from requests>=2.7.0->quandl) (1.24.3)\n",
            "Requirement already satisfied: certifi>=2017.4.17 in /usr/local/lib/python3.7/dist-packages (from requests>=2.7.0->quandl) (2021.10.8)\n",
            "Requirement already satisfied: chardet<4,>=3.0.2 in /usr/local/lib/python3.7/dist-packages (from requests>=2.7.0->quandl) (3.0.4)\n",
            "Requirement already satisfied: idna<3,>=2.5 in /usr/local/lib/python3.7/dist-packages (from requests>=2.7.0->quandl) (2.10)\n"
          ]
        }
      ],
      "source": [
        "!pip install bsedata\n",
        "!pip install quandl"
      ]
    },
    {
      "cell_type": "code",
      "source": [
        "import matplotlib.pyplot as plt\n",
        "import numpy as np\n",
        "import pandas as pd\n",
        "import matplotlib.dates as dates\n",
        "import quandl\n",
        "%matplotlib inline"
      ],
      "metadata": {
        "id": "UIDlsw_oM_ZI"
      },
      "execution_count": 206,
      "outputs": []
    },
    {
      "cell_type": "code",
      "source": [
        "# to be ale to view numbers in human readable format 2.058691e+08\n",
        "pd.set_option('display.float_format', lambda x: '%.3f' % x)\n",
        "quandl.ApiConfig.api_key = 'izbxGLp_K_zzzUJdN9sp'\n",
        "sbi =quandl.get('BSE/BOM500112', start_date='2021-06-01', end_date='2021-12-26')\n",
        "sensex =quandl.get('BSE/SENSEX', start_date='2021-06-01', end_date='2021-12-26')"
      ],
      "metadata": {
        "id": "sPf_hChvNFJ6"
      },
      "execution_count": 207,
      "outputs": []
    },
    {
      "cell_type": "code",
      "source": [
        "forwarded=sbi.shift(1)\n",
        "forwarded=forwarded.rename(columns={'% Deli. Qty to Traded Qty':'previous_day_delivered_qty'})\n",
        "#forwarded=forwarded.rename(columns={'No. of Shares':'previous_day_no_of_shares'})\n",
        "#forwarded=forwarded.rename(columns={'No. of Trades':'previous_day_no_of_trades'})\n",
        "forwarded=forwarded.rename(columns={'Total Turnover':'previous_day_total_turnover'})"
      ],
      "metadata": {
        "id": "06kD-0I3rkWi"
      },
      "execution_count": 208,
      "outputs": []
    },
    {
      "cell_type": "code",
      "source": [
        "# Renaming the columns to avoid duplicate names\n",
        "sbi=sbi.rename(columns={'Open':'sbi_open'})\n",
        "sbi=sbi.rename(columns={'High':'sbi_high'})\n",
        "sensex=sensex.rename(columns={'Open':'sensex_open'})"
      ],
      "metadata": {
        "id": "blExJVrUVu77"
      },
      "execution_count": 209,
      "outputs": []
    },
    {
      "cell_type": "code",
      "source": [
        "df=pd.concat([sbi,sensex,forwarded],axis=1)"
      ],
      "metadata": {
        "id": "OHISpMMNrX2M"
      },
      "execution_count": 210,
      "outputs": []
    },
    {
      "cell_type": "code",
      "source": [
        "data=df[['sbi_open','sensex_open','previous_day_delivered_qty','previous_day_total_turnover','sbi_high']]"
      ],
      "metadata": {
        "id": "KidsXT9Ted8v"
      },
      "execution_count": 211,
      "outputs": []
    },
    {
      "cell_type": "code",
      "source": [
        "data"
      ],
      "metadata": {
        "colab": {
          "base_uri": "https://localhost:8080/",
          "height": 455
        },
        "id": "g7rhsSrB32Cv",
        "outputId": "eea56875-b87c-44ca-9528-3526ff4c3c5c"
      },
      "execution_count": 212,
      "outputs": [
        {
          "output_type": "execute_result",
          "data": {
            "text/html": [
              "\n",
              "  <div id=\"df-25667f49-9799-40e7-b7b5-e3b609514d7a\">\n",
              "    <div class=\"colab-df-container\">\n",
              "      <div>\n",
              "<style scoped>\n",
              "    .dataframe tbody tr th:only-of-type {\n",
              "        vertical-align: middle;\n",
              "    }\n",
              "\n",
              "    .dataframe tbody tr th {\n",
              "        vertical-align: top;\n",
              "    }\n",
              "\n",
              "    .dataframe thead th {\n",
              "        text-align: right;\n",
              "    }\n",
              "</style>\n",
              "<table border=\"1\" class=\"dataframe\">\n",
              "  <thead>\n",
              "    <tr style=\"text-align: right;\">\n",
              "      <th></th>\n",
              "      <th>sbi_open</th>\n",
              "      <th>sensex_open</th>\n",
              "      <th>previous_day_delivered_qty</th>\n",
              "      <th>previous_day_total_turnover</th>\n",
              "      <th>sbi_high</th>\n",
              "    </tr>\n",
              "    <tr>\n",
              "      <th>Date</th>\n",
              "      <th></th>\n",
              "      <th></th>\n",
              "      <th></th>\n",
              "      <th></th>\n",
              "      <th></th>\n",
              "    </tr>\n",
              "  </thead>\n",
              "  <tbody>\n",
              "    <tr>\n",
              "      <th>2021-06-01</th>\n",
              "      <td>426.400</td>\n",
              "      <td>52067.510</td>\n",
              "      <td>nan</td>\n",
              "      <td>nan</td>\n",
              "      <td>435.200</td>\n",
              "    </tr>\n",
              "    <tr>\n",
              "      <th>2021-06-02</th>\n",
              "      <td>431.850</td>\n",
              "      <td>51749.100</td>\n",
              "      <td>19.740</td>\n",
              "      <td>1433240052.000</td>\n",
              "      <td>437.900</td>\n",
              "    </tr>\n",
              "    <tr>\n",
              "      <th>2021-06-03</th>\n",
              "      <td>437.400</td>\n",
              "      <td>52121.580</td>\n",
              "      <td>40.510</td>\n",
              "      <td>1121732631.000</td>\n",
              "      <td>442.000</td>\n",
              "    </tr>\n",
              "    <tr>\n",
              "      <th>2021-06-04</th>\n",
              "      <td>437.500</td>\n",
              "      <td>52367.520</td>\n",
              "      <td>22.320</td>\n",
              "      <td>777467898.000</td>\n",
              "      <td>441.850</td>\n",
              "    </tr>\n",
              "    <tr>\n",
              "      <th>2021-06-07</th>\n",
              "      <td>435.450</td>\n",
              "      <td>52231.380</td>\n",
              "      <td>19.770</td>\n",
              "      <td>706218748.000</td>\n",
              "      <td>437.350</td>\n",
              "    </tr>\n",
              "    <tr>\n",
              "      <th>...</th>\n",
              "      <td>...</td>\n",
              "      <td>...</td>\n",
              "      <td>...</td>\n",
              "      <td>...</td>\n",
              "      <td>...</td>\n",
              "    </tr>\n",
              "    <tr>\n",
              "      <th>2021-12-20</th>\n",
              "      <td>459.900</td>\n",
              "      <td>56517.260</td>\n",
              "      <td>34.870</td>\n",
              "      <td>396301843.000</td>\n",
              "      <td>463.950</td>\n",
              "    </tr>\n",
              "    <tr>\n",
              "      <th>2021-12-21</th>\n",
              "      <td>454.550</td>\n",
              "      <td>56320.020</td>\n",
              "      <td>33.480</td>\n",
              "      <td>388774565.000</td>\n",
              "      <td>458.300</td>\n",
              "    </tr>\n",
              "    <tr>\n",
              "      <th>2021-12-22</th>\n",
              "      <td>451.700</td>\n",
              "      <td>56599.470</td>\n",
              "      <td>37.160</td>\n",
              "      <td>468699163.000</td>\n",
              "      <td>457.350</td>\n",
              "    </tr>\n",
              "    <tr>\n",
              "      <th>2021-12-23</th>\n",
              "      <td>461.700</td>\n",
              "      <td>57251.150</td>\n",
              "      <td>17.670</td>\n",
              "      <td>186505067.000</td>\n",
              "      <td>465.000</td>\n",
              "    </tr>\n",
              "    <tr>\n",
              "      <th>2021-12-24</th>\n",
              "      <td>463.450</td>\n",
              "      <td>57567.110</td>\n",
              "      <td>30.070</td>\n",
              "      <td>261377833.000</td>\n",
              "      <td>463.450</td>\n",
              "    </tr>\n",
              "  </tbody>\n",
              "</table>\n",
              "<p>143 rows × 5 columns</p>\n",
              "</div>\n",
              "      <button class=\"colab-df-convert\" onclick=\"convertToInteractive('df-25667f49-9799-40e7-b7b5-e3b609514d7a')\"\n",
              "              title=\"Convert this dataframe to an interactive table.\"\n",
              "              style=\"display:none;\">\n",
              "        \n",
              "  <svg xmlns=\"http://www.w3.org/2000/svg\" height=\"24px\"viewBox=\"0 0 24 24\"\n",
              "       width=\"24px\">\n",
              "    <path d=\"M0 0h24v24H0V0z\" fill=\"none\"/>\n",
              "    <path d=\"M18.56 5.44l.94 2.06.94-2.06 2.06-.94-2.06-.94-.94-2.06-.94 2.06-2.06.94zm-11 1L8.5 8.5l.94-2.06 2.06-.94-2.06-.94L8.5 2.5l-.94 2.06-2.06.94zm10 10l.94 2.06.94-2.06 2.06-.94-2.06-.94-.94-2.06-.94 2.06-2.06.94z\"/><path d=\"M17.41 7.96l-1.37-1.37c-.4-.4-.92-.59-1.43-.59-.52 0-1.04.2-1.43.59L10.3 9.45l-7.72 7.72c-.78.78-.78 2.05 0 2.83L4 21.41c.39.39.9.59 1.41.59.51 0 1.02-.2 1.41-.59l7.78-7.78 2.81-2.81c.8-.78.8-2.07 0-2.86zM5.41 20L4 18.59l7.72-7.72 1.47 1.35L5.41 20z\"/>\n",
              "  </svg>\n",
              "      </button>\n",
              "      \n",
              "  <style>\n",
              "    .colab-df-container {\n",
              "      display:flex;\n",
              "      flex-wrap:wrap;\n",
              "      gap: 12px;\n",
              "    }\n",
              "\n",
              "    .colab-df-convert {\n",
              "      background-color: #E8F0FE;\n",
              "      border: none;\n",
              "      border-radius: 50%;\n",
              "      cursor: pointer;\n",
              "      display: none;\n",
              "      fill: #1967D2;\n",
              "      height: 32px;\n",
              "      padding: 0 0 0 0;\n",
              "      width: 32px;\n",
              "    }\n",
              "\n",
              "    .colab-df-convert:hover {\n",
              "      background-color: #E2EBFA;\n",
              "      box-shadow: 0px 1px 2px rgba(60, 64, 67, 0.3), 0px 1px 3px 1px rgba(60, 64, 67, 0.15);\n",
              "      fill: #174EA6;\n",
              "    }\n",
              "\n",
              "    [theme=dark] .colab-df-convert {\n",
              "      background-color: #3B4455;\n",
              "      fill: #D2E3FC;\n",
              "    }\n",
              "\n",
              "    [theme=dark] .colab-df-convert:hover {\n",
              "      background-color: #434B5C;\n",
              "      box-shadow: 0px 1px 3px 1px rgba(0, 0, 0, 0.15);\n",
              "      filter: drop-shadow(0px 1px 2px rgba(0, 0, 0, 0.3));\n",
              "      fill: #FFFFFF;\n",
              "    }\n",
              "  </style>\n",
              "\n",
              "      <script>\n",
              "        const buttonEl =\n",
              "          document.querySelector('#df-25667f49-9799-40e7-b7b5-e3b609514d7a button.colab-df-convert');\n",
              "        buttonEl.style.display =\n",
              "          google.colab.kernel.accessAllowed ? 'block' : 'none';\n",
              "\n",
              "        async function convertToInteractive(key) {\n",
              "          const element = document.querySelector('#df-25667f49-9799-40e7-b7b5-e3b609514d7a');\n",
              "          const dataTable =\n",
              "            await google.colab.kernel.invokeFunction('convertToInteractive',\n",
              "                                                     [key], {});\n",
              "          if (!dataTable) return;\n",
              "\n",
              "          const docLinkHtml = 'Like what you see? Visit the ' +\n",
              "            '<a target=\"_blank\" href=https://colab.research.google.com/notebooks/data_table.ipynb>data table notebook</a>'\n",
              "            + ' to learn more about interactive tables.';\n",
              "          element.innerHTML = '';\n",
              "          dataTable['output_type'] = 'display_data';\n",
              "          await google.colab.output.renderOutput(dataTable, element);\n",
              "          const docLink = document.createElement('div');\n",
              "          docLink.innerHTML = docLinkHtml;\n",
              "          element.appendChild(docLink);\n",
              "        }\n",
              "      </script>\n",
              "    </div>\n",
              "  </div>\n",
              "  "
            ],
            "text/plain": [
              "            sbi_open  sensex_open  ...  previous_day_total_turnover  sbi_high\n",
              "Date                               ...                                       \n",
              "2021-06-01   426.400    52067.510  ...                          nan   435.200\n",
              "2021-06-02   431.850    51749.100  ...               1433240052.000   437.900\n",
              "2021-06-03   437.400    52121.580  ...               1121732631.000   442.000\n",
              "2021-06-04   437.500    52367.520  ...                777467898.000   441.850\n",
              "2021-06-07   435.450    52231.380  ...                706218748.000   437.350\n",
              "...              ...          ...  ...                          ...       ...\n",
              "2021-12-20   459.900    56517.260  ...                396301843.000   463.950\n",
              "2021-12-21   454.550    56320.020  ...                388774565.000   458.300\n",
              "2021-12-22   451.700    56599.470  ...                468699163.000   457.350\n",
              "2021-12-23   461.700    57251.150  ...                186505067.000   465.000\n",
              "2021-12-24   463.450    57567.110  ...                261377833.000   463.450\n",
              "\n",
              "[143 rows x 5 columns]"
            ]
          },
          "metadata": {},
          "execution_count": 212
        }
      ]
    },
    {
      "cell_type": "code",
      "source": [
        "X = data.iloc[1:, :-1].values\n",
        "y = data.iloc[1:, -1].values"
      ],
      "metadata": {
        "id": "W6jgFohkek8j"
      },
      "execution_count": 213,
      "outputs": []
    },
    {
      "cell_type": "code",
      "source": [
        "from sklearn.model_selection import train_test_split\n",
        "X_train, X_test, y_train, y_test = train_test_split(X, y, test_size = 0.2, random_state = 0)"
      ],
      "metadata": {
        "id": "UqLuPygvfwVt"
      },
      "execution_count": 214,
      "outputs": []
    },
    {
      "cell_type": "code",
      "source": [
        "from sklearn.linear_model import LinearRegression\n",
        "regressor = LinearRegression()\n",
        "regressor.fit(X_train, y_train)"
      ],
      "metadata": {
        "colab": {
          "base_uri": "https://localhost:8080/"
        },
        "id": "ZN81S35dfy4Z",
        "outputId": "7577d257-ff8c-4295-b775-80d20ed27693"
      },
      "execution_count": 215,
      "outputs": [
        {
          "output_type": "execute_result",
          "data": {
            "text/plain": [
              "LinearRegression()"
            ]
          },
          "metadata": {},
          "execution_count": 215
        }
      ]
    },
    {
      "cell_type": "code",
      "source": [
        "print(regressor.coef_)\n",
        "print(regressor.intercept_)"
      ],
      "metadata": {
        "colab": {
          "base_uri": "https://localhost:8080/"
        },
        "id": "CgktfIBqmr4R",
        "outputId": "c7b9239a-9bc8-46c6-87c8-a4d1bc9d6865"
      },
      "execution_count": 216,
      "outputs": [
        {
          "output_type": "stream",
          "name": "stdout",
          "text": [
            "[ 9.84902345e-01  3.84923564e-04 -5.04025452e-02  1.12081331e-09]\n",
            "-9.149394073203439\n"
          ]
        }
      ]
    },
    {
      "cell_type": "code",
      "source": [
        "y_pred = regressor.predict(X_test)"
      ],
      "metadata": {
        "id": "PIX-WcjW5J5P"
      },
      "execution_count": 217,
      "outputs": []
    },
    {
      "cell_type": "code",
      "source": [
        "from sklearn.metrics import mean_squared_error\n",
        "mean_squared_error(y_pred, y_test,squared=False)"
      ],
      "metadata": {
        "colab": {
          "base_uri": "https://localhost:8080/"
        },
        "id": "XiC92yVwpPsN",
        "outputId": "855dd6fd-3730-44a4-f380-85f18c1bd093"
      },
      "execution_count": 218,
      "outputs": [
        {
          "output_type": "execute_result",
          "data": {
            "text/plain": [
              "5.0322123726580745"
            ]
          },
          "metadata": {},
          "execution_count": 218
        }
      ]
    },
    {
      "cell_type": "code",
      "source": [
        "y_pred = regressor.predict(X_test)"
      ],
      "metadata": {
        "id": "B2-1JSqjf026"
      },
      "execution_count": 219,
      "outputs": []
    },
    {
      "cell_type": "code",
      "source": [
        ""
      ],
      "metadata": {
        "id": "hEZBXMiU6BGA"
      },
      "execution_count": 219,
      "outputs": []
    }
  ]
}